{
 "cells": [
  {
   "metadata": {
    "ExecuteTime": {
     "end_time": "2025-07-10T14:20:37.407947Z",
     "start_time": "2025-07-10T14:20:37.404452Z"
    }
   },
   "cell_type": "code",
   "source": [
    "import pandas as pd\n",
    "import numpy as np\n",
    "import matplotlib.pyplot as plt\n",
    "import seaborn as sns"
   ],
   "id": "a912fc6ffbb2a4ab",
   "outputs": [],
   "execution_count": 1
  },
  {
   "metadata": {
    "ExecuteTime": {
     "end_time": "2025-07-10T14:20:37.514663Z",
     "start_time": "2025-07-10T14:20:37.508643Z"
    }
   },
   "cell_type": "code",
   "source": "df = pd.read_csv('data/Zomato-data-.csv')",
   "id": "585800b8367f40ef",
   "outputs": [],
   "execution_count": 2
  },
  {
   "metadata": {
    "ExecuteTime": {
     "end_time": "2025-07-10T14:20:37.543359Z",
     "start_time": "2025-07-10T14:20:37.532709Z"
    }
   },
   "cell_type": "code",
   "source": "df.head()",
   "id": "96f9e8b684dc07a6",
   "outputs": [
    {
     "data": {
      "text/plain": [
       "                    name online_order book_table   rate  votes  \\\n",
       "0                  Jalsa          Yes        Yes  4.1/5    775   \n",
       "1         Spice Elephant          Yes         No  4.1/5    787   \n",
       "2        San Churro Cafe          Yes         No  3.8/5    918   \n",
       "3  Addhuri Udupi Bhojana           No         No  3.7/5     88   \n",
       "4          Grand Village           No         No  3.8/5    166   \n",
       "\n",
       "   approx_cost(for two people) listed_in(type)  \n",
       "0                          800          Buffet  \n",
       "1                          800          Buffet  \n",
       "2                          800          Buffet  \n",
       "3                          300          Buffet  \n",
       "4                          600          Buffet  "
      ],
      "text/html": [
       "<div>\n",
       "<style scoped>\n",
       "    .dataframe tbody tr th:only-of-type {\n",
       "        vertical-align: middle;\n",
       "    }\n",
       "\n",
       "    .dataframe tbody tr th {\n",
       "        vertical-align: top;\n",
       "    }\n",
       "\n",
       "    .dataframe thead th {\n",
       "        text-align: right;\n",
       "    }\n",
       "</style>\n",
       "<table border=\"1\" class=\"dataframe\">\n",
       "  <thead>\n",
       "    <tr style=\"text-align: right;\">\n",
       "      <th></th>\n",
       "      <th>name</th>\n",
       "      <th>online_order</th>\n",
       "      <th>book_table</th>\n",
       "      <th>rate</th>\n",
       "      <th>votes</th>\n",
       "      <th>approx_cost(for two people)</th>\n",
       "      <th>listed_in(type)</th>\n",
       "    </tr>\n",
       "  </thead>\n",
       "  <tbody>\n",
       "    <tr>\n",
       "      <th>0</th>\n",
       "      <td>Jalsa</td>\n",
       "      <td>Yes</td>\n",
       "      <td>Yes</td>\n",
       "      <td>4.1/5</td>\n",
       "      <td>775</td>\n",
       "      <td>800</td>\n",
       "      <td>Buffet</td>\n",
       "    </tr>\n",
       "    <tr>\n",
       "      <th>1</th>\n",
       "      <td>Spice Elephant</td>\n",
       "      <td>Yes</td>\n",
       "      <td>No</td>\n",
       "      <td>4.1/5</td>\n",
       "      <td>787</td>\n",
       "      <td>800</td>\n",
       "      <td>Buffet</td>\n",
       "    </tr>\n",
       "    <tr>\n",
       "      <th>2</th>\n",
       "      <td>San Churro Cafe</td>\n",
       "      <td>Yes</td>\n",
       "      <td>No</td>\n",
       "      <td>3.8/5</td>\n",
       "      <td>918</td>\n",
       "      <td>800</td>\n",
       "      <td>Buffet</td>\n",
       "    </tr>\n",
       "    <tr>\n",
       "      <th>3</th>\n",
       "      <td>Addhuri Udupi Bhojana</td>\n",
       "      <td>No</td>\n",
       "      <td>No</td>\n",
       "      <td>3.7/5</td>\n",
       "      <td>88</td>\n",
       "      <td>300</td>\n",
       "      <td>Buffet</td>\n",
       "    </tr>\n",
       "    <tr>\n",
       "      <th>4</th>\n",
       "      <td>Grand Village</td>\n",
       "      <td>No</td>\n",
       "      <td>No</td>\n",
       "      <td>3.8/5</td>\n",
       "      <td>166</td>\n",
       "      <td>600</td>\n",
       "      <td>Buffet</td>\n",
       "    </tr>\n",
       "  </tbody>\n",
       "</table>\n",
       "</div>"
      ]
     },
     "execution_count": 3,
     "metadata": {},
     "output_type": "execute_result"
    }
   ],
   "execution_count": 3
  },
  {
   "metadata": {},
   "cell_type": "markdown",
   "source": [
    "### Data Cleaning\n",
    "1. Convert the rate column to a float by removing denominator characters."
   ],
   "id": "e35c9866ad090366"
  },
  {
   "metadata": {
    "ExecuteTime": {
     "end_time": "2025-07-10T14:20:37.626602Z",
     "start_time": "2025-07-10T14:20:37.623712Z"
    }
   },
   "cell_type": "code",
   "source": [
    "def handle_rate(rate):\n",
    "    if isinstance(rate, str):\n",
    "        rate = rate.split('/')[0].strip()  # Take the first part before '/'\n",
    "        rate = rate.replace(',', '.')  # Replace comma with dot for float conversion\n",
    "        try:\n",
    "            return float(rate)\n",
    "        except ValueError:\n",
    "            return np.nan\n",
    "    return np.nan"
   ],
   "id": "5a773bdfa4923434",
   "outputs": [],
   "execution_count": 4
  },
  {
   "metadata": {
    "ExecuteTime": {
     "end_time": "2025-07-10T14:20:37.688426Z",
     "start_time": "2025-07-10T14:20:37.684941Z"
    }
   },
   "cell_type": "code",
   "source": "df['rate'] = df['rate'].apply(handle_rate)",
   "id": "d6b8da4ef5d4b8a2",
   "outputs": [],
   "execution_count": 5
  },
  {
   "metadata": {
    "ExecuteTime": {
     "end_time": "2025-07-10T14:20:37.788099Z",
     "start_time": "2025-07-10T14:20:37.778771Z"
    }
   },
   "cell_type": "code",
   "source": "df.head()",
   "id": "f1bd07926c6b7fc",
   "outputs": [
    {
     "data": {
      "text/plain": [
       "                    name online_order book_table  rate  votes  \\\n",
       "0                  Jalsa          Yes        Yes   4.1    775   \n",
       "1         Spice Elephant          Yes         No   4.1    787   \n",
       "2        San Churro Cafe          Yes         No   3.8    918   \n",
       "3  Addhuri Udupi Bhojana           No         No   3.7     88   \n",
       "4          Grand Village           No         No   3.8    166   \n",
       "\n",
       "   approx_cost(for two people) listed_in(type)  \n",
       "0                          800          Buffet  \n",
       "1                          800          Buffet  \n",
       "2                          800          Buffet  \n",
       "3                          300          Buffet  \n",
       "4                          600          Buffet  "
      ],
      "text/html": [
       "<div>\n",
       "<style scoped>\n",
       "    .dataframe tbody tr th:only-of-type {\n",
       "        vertical-align: middle;\n",
       "    }\n",
       "\n",
       "    .dataframe tbody tr th {\n",
       "        vertical-align: top;\n",
       "    }\n",
       "\n",
       "    .dataframe thead th {\n",
       "        text-align: right;\n",
       "    }\n",
       "</style>\n",
       "<table border=\"1\" class=\"dataframe\">\n",
       "  <thead>\n",
       "    <tr style=\"text-align: right;\">\n",
       "      <th></th>\n",
       "      <th>name</th>\n",
       "      <th>online_order</th>\n",
       "      <th>book_table</th>\n",
       "      <th>rate</th>\n",
       "      <th>votes</th>\n",
       "      <th>approx_cost(for two people)</th>\n",
       "      <th>listed_in(type)</th>\n",
       "    </tr>\n",
       "  </thead>\n",
       "  <tbody>\n",
       "    <tr>\n",
       "      <th>0</th>\n",
       "      <td>Jalsa</td>\n",
       "      <td>Yes</td>\n",
       "      <td>Yes</td>\n",
       "      <td>4.1</td>\n",
       "      <td>775</td>\n",
       "      <td>800</td>\n",
       "      <td>Buffet</td>\n",
       "    </tr>\n",
       "    <tr>\n",
       "      <th>1</th>\n",
       "      <td>Spice Elephant</td>\n",
       "      <td>Yes</td>\n",
       "      <td>No</td>\n",
       "      <td>4.1</td>\n",
       "      <td>787</td>\n",
       "      <td>800</td>\n",
       "      <td>Buffet</td>\n",
       "    </tr>\n",
       "    <tr>\n",
       "      <th>2</th>\n",
       "      <td>San Churro Cafe</td>\n",
       "      <td>Yes</td>\n",
       "      <td>No</td>\n",
       "      <td>3.8</td>\n",
       "      <td>918</td>\n",
       "      <td>800</td>\n",
       "      <td>Buffet</td>\n",
       "    </tr>\n",
       "    <tr>\n",
       "      <th>3</th>\n",
       "      <td>Addhuri Udupi Bhojana</td>\n",
       "      <td>No</td>\n",
       "      <td>No</td>\n",
       "      <td>3.7</td>\n",
       "      <td>88</td>\n",
       "      <td>300</td>\n",
       "      <td>Buffet</td>\n",
       "    </tr>\n",
       "    <tr>\n",
       "      <th>4</th>\n",
       "      <td>Grand Village</td>\n",
       "      <td>No</td>\n",
       "      <td>No</td>\n",
       "      <td>3.8</td>\n",
       "      <td>166</td>\n",
       "      <td>600</td>\n",
       "      <td>Buffet</td>\n",
       "    </tr>\n",
       "  </tbody>\n",
       "</table>\n",
       "</div>"
      ]
     },
     "execution_count": 6,
     "metadata": {},
     "output_type": "execute_result"
    }
   ],
   "execution_count": 6
  },
  {
   "metadata": {},
   "cell_type": "markdown",
   "source": "2. Getting summary of the dataframe",
   "id": "2f9c3d3fd9e512ce"
  },
  {
   "metadata": {
    "ExecuteTime": {
     "end_time": "2025-07-10T14:20:37.885520Z",
     "start_time": "2025-07-10T14:20:37.876421Z"
    }
   },
   "cell_type": "code",
   "source": "df.info()",
   "id": "276235949720ecb8",
   "outputs": [
    {
     "name": "stdout",
     "output_type": "stream",
     "text": [
      "<class 'pandas.core.frame.DataFrame'>\n",
      "RangeIndex: 148 entries, 0 to 147\n",
      "Data columns (total 7 columns):\n",
      " #   Column                       Non-Null Count  Dtype  \n",
      "---  ------                       --------------  -----  \n",
      " 0   name                         148 non-null    object \n",
      " 1   online_order                 148 non-null    object \n",
      " 2   book_table                   148 non-null    object \n",
      " 3   rate                         148 non-null    float64\n",
      " 4   votes                        148 non-null    int64  \n",
      " 5   approx_cost(for two people)  148 non-null    int64  \n",
      " 6   listed_in(type)              148 non-null    object \n",
      "dtypes: float64(1), int64(2), object(4)\n",
      "memory usage: 8.2+ KB\n"
     ]
    }
   ],
   "execution_count": 7
  },
  {
   "metadata": {},
   "cell_type": "markdown",
   "source": "there is no null values in the dataframe ans data types are appropriate",
   "id": "349b0d53aea94772"
  },
  {
   "metadata": {
    "ExecuteTime": {
     "end_time": "2025-07-10T14:20:37.972356Z",
     "start_time": "2025-07-10T14:20:37.960030Z"
    }
   },
   "cell_type": "code",
   "source": "df.describe()",
   "id": "f310e9ca52723b1e",
   "outputs": [
    {
     "data": {
      "text/plain": [
       "             rate        votes  approx_cost(for two people)\n",
       "count  148.000000   148.000000                   148.000000\n",
       "mean     3.633108   264.810811                   418.243243\n",
       "std      0.402271   653.676951                   223.085098\n",
       "min      2.600000     0.000000                   100.000000\n",
       "25%      3.300000     6.750000                   200.000000\n",
       "50%      3.700000    43.500000                   400.000000\n",
       "75%      3.900000   221.750000                   600.000000\n",
       "max      4.600000  4884.000000                   950.000000"
      ],
      "text/html": [
       "<div>\n",
       "<style scoped>\n",
       "    .dataframe tbody tr th:only-of-type {\n",
       "        vertical-align: middle;\n",
       "    }\n",
       "\n",
       "    .dataframe tbody tr th {\n",
       "        vertical-align: top;\n",
       "    }\n",
       "\n",
       "    .dataframe thead th {\n",
       "        text-align: right;\n",
       "    }\n",
       "</style>\n",
       "<table border=\"1\" class=\"dataframe\">\n",
       "  <thead>\n",
       "    <tr style=\"text-align: right;\">\n",
       "      <th></th>\n",
       "      <th>rate</th>\n",
       "      <th>votes</th>\n",
       "      <th>approx_cost(for two people)</th>\n",
       "    </tr>\n",
       "  </thead>\n",
       "  <tbody>\n",
       "    <tr>\n",
       "      <th>count</th>\n",
       "      <td>148.000000</td>\n",
       "      <td>148.000000</td>\n",
       "      <td>148.000000</td>\n",
       "    </tr>\n",
       "    <tr>\n",
       "      <th>mean</th>\n",
       "      <td>3.633108</td>\n",
       "      <td>264.810811</td>\n",
       "      <td>418.243243</td>\n",
       "    </tr>\n",
       "    <tr>\n",
       "      <th>std</th>\n",
       "      <td>0.402271</td>\n",
       "      <td>653.676951</td>\n",
       "      <td>223.085098</td>\n",
       "    </tr>\n",
       "    <tr>\n",
       "      <th>min</th>\n",
       "      <td>2.600000</td>\n",
       "      <td>0.000000</td>\n",
       "      <td>100.000000</td>\n",
       "    </tr>\n",
       "    <tr>\n",
       "      <th>25%</th>\n",
       "      <td>3.300000</td>\n",
       "      <td>6.750000</td>\n",
       "      <td>200.000000</td>\n",
       "    </tr>\n",
       "    <tr>\n",
       "      <th>50%</th>\n",
       "      <td>3.700000</td>\n",
       "      <td>43.500000</td>\n",
       "      <td>400.000000</td>\n",
       "    </tr>\n",
       "    <tr>\n",
       "      <th>75%</th>\n",
       "      <td>3.900000</td>\n",
       "      <td>221.750000</td>\n",
       "      <td>600.000000</td>\n",
       "    </tr>\n",
       "    <tr>\n",
       "      <th>max</th>\n",
       "      <td>4.600000</td>\n",
       "      <td>4884.000000</td>\n",
       "      <td>950.000000</td>\n",
       "    </tr>\n",
       "  </tbody>\n",
       "</table>\n",
       "</div>"
      ]
     },
     "execution_count": 8,
     "metadata": {},
     "output_type": "execute_result"
    }
   ],
   "execution_count": 8
  },
  {
   "metadata": {},
   "cell_type": "markdown",
   "source": "there doesn't seem to be any outliers in the data, but we can check the distribution of the rate column.",
   "id": "8e2d2a1e603d711e"
  },
  {
   "metadata": {
    "ExecuteTime": {
     "end_time": "2025-07-10T14:20:38.097021Z",
     "start_time": "2025-07-10T14:20:38.084181Z"
    }
   },
   "cell_type": "code",
   "source": "df[df.duplicated()]",
   "id": "7fc23e3ab2fd24cc",
   "outputs": [
    {
     "data": {
      "text/plain": [
       "Empty DataFrame\n",
       "Columns: [name, online_order, book_table, rate, votes, approx_cost(for two people), listed_in(type)]\n",
       "Index: []"
      ],
      "text/html": [
       "<div>\n",
       "<style scoped>\n",
       "    .dataframe tbody tr th:only-of-type {\n",
       "        vertical-align: middle;\n",
       "    }\n",
       "\n",
       "    .dataframe tbody tr th {\n",
       "        vertical-align: top;\n",
       "    }\n",
       "\n",
       "    .dataframe thead th {\n",
       "        text-align: right;\n",
       "    }\n",
       "</style>\n",
       "<table border=\"1\" class=\"dataframe\">\n",
       "  <thead>\n",
       "    <tr style=\"text-align: right;\">\n",
       "      <th></th>\n",
       "      <th>name</th>\n",
       "      <th>online_order</th>\n",
       "      <th>book_table</th>\n",
       "      <th>rate</th>\n",
       "      <th>votes</th>\n",
       "      <th>approx_cost(for two people)</th>\n",
       "      <th>listed_in(type)</th>\n",
       "    </tr>\n",
       "  </thead>\n",
       "  <tbody>\n",
       "  </tbody>\n",
       "</table>\n",
       "</div>"
      ]
     },
     "execution_count": 9,
     "metadata": {},
     "output_type": "execute_result"
    }
   ],
   "execution_count": 9
  },
  {
   "metadata": {},
   "cell_type": "markdown",
   "source": "no duplicates found in the dataframe",
   "id": "d421917fcde08af2"
  },
  {
   "metadata": {
    "ExecuteTime": {
     "end_time": "2025-07-10T14:20:38.324887Z",
     "start_time": "2025-07-10T14:20:38.318019Z"
    }
   },
   "cell_type": "code",
   "source": "df.apply(lambda x: x.unique())",
   "id": "d1542edf89474f05",
   "outputs": [
    {
     "data": {
      "text/plain": [
       "name                           [Jalsa, Spice Elephant, San Churro Cafe, Addhu...\n",
       "online_order                                                           [Yes, No]\n",
       "book_table                                                             [Yes, No]\n",
       "rate                           [4.1, 3.8, 3.7, 3.6, 4.6, 4.0, 4.2, 3.9, 3.1, ...\n",
       "votes                          [775, 787, 918, 88, 166, 286, 8, 2556, 324, 50...\n",
       "approx_cost(for two people)    [800, 300, 600, 700, 550, 500, 450, 650, 400, ...\n",
       "listed_in(type)                                   [Buffet, Cafes, other, Dining]\n",
       "dtype: object"
      ]
     },
     "execution_count": 10,
     "metadata": {},
     "output_type": "execute_result"
    }
   ],
   "execution_count": 10
  },
  {
   "metadata": {},
   "cell_type": "markdown",
   "source": "there doesn't seem tp be any inconsistent values in the dataframe",
   "id": "d440fd1ee24e1e16"
  },
  {
   "metadata": {
    "ExecuteTime": {
     "end_time": "2025-07-10T14:20:38.427069Z",
     "start_time": "2025-07-10T14:20:38.424401Z"
    }
   },
   "cell_type": "code",
   "source": "from scipy import stats",
   "id": "2d41c9f3f8274801",
   "outputs": [],
   "execution_count": 11
  },
  {
   "metadata": {
    "ExecuteTime": {
     "end_time": "2025-07-10T14:20:38.517683Z",
     "start_time": "2025-07-10T14:20:38.514241Z"
    }
   },
   "cell_type": "code",
   "source": [
    "def check_outliers_zscore(df, column, threshold=3):\n",
    "    non_null = df[column].dropna()\n",
    "    z_scores = np.abs(stats.zscore(non_null))\n",
    "    outlier_indices = non_null.index[z_scores > threshold]\n",
    "    outliers = df.loc[outlier_indices]\n",
    "    print(f\"Outliers in {column}: {len(outliers)} rows\")\n",
    "    return outliers"
   ],
   "id": "77149f818ce9b16c",
   "outputs": [],
   "execution_count": 12
  },
  {
   "metadata": {
    "ExecuteTime": {
     "end_time": "2025-07-10T14:20:38.586124Z",
     "start_time": "2025-07-10T14:20:38.579224Z"
    }
   },
   "cell_type": "code",
   "source": [
    "for column in df.select_dtypes(include=[np.number]).columns:\n",
    "    outliers = check_outliers_zscore(df, column)\n",
    "    if not outliers.empty:\n",
    "        print(outliers[[column]])\n",
    "    print('-' * 50)"
   ],
   "id": "21680f277ff27f5c",
   "outputs": [
    {
     "name": "stdout",
     "output_type": "stream",
     "text": [
      "Outliers in rate: 0 rows\n",
      "--------------------------------------------------\n",
      "Outliers in votes: 4 rows\n",
      "    votes\n",
      "7    2556\n",
      "38   4884\n",
      "44   2556\n",
      "86   4401\n",
      "--------------------------------------------------\n",
      "Outliers in approx_cost(for two people): 0 rows\n",
      "--------------------------------------------------\n"
     ]
    }
   ],
   "execution_count": 13
  },
  {
   "metadata": {
    "ExecuteTime": {
     "end_time": "2025-07-10T14:20:38.846638Z",
     "start_time": "2025-07-10T14:20:38.642436Z"
    }
   },
   "cell_type": "code",
   "source": [
    "# Boxplot to visualize outliers\n",
    "plt.figure(figsize=(10, 6))\n",
    "plt.subplot(1, 2, 1)\n",
    "plt.boxplot(df['votes'].dropna())\n",
    "plt.title('Boxplot of Rate')\n",
    "\n",
    "plt.subplot(1, 2, 2)\n",
    "plt.hist(df['votes'].dropna(), bins=30)\n",
    "plt.axvline(df['votes'].mean(), color='red', linestyle='dashed', linewidth=1)\n",
    "plt.axvline(df['votes'].median(), color='green', linestyle='dashed', linewidth=1)\n",
    "plt.title('Distribution of votes')\n",
    "plt.show()"
   ],
   "id": "69a2b81b609de613",
   "outputs": [
    {
     "data": {
      "text/plain": [
       "<Figure size 1000x600 with 2 Axes>"
      ],
      "image/png": "[encoded data removed]"
     },
     "metadata": {},
     "output_type": "display_data"
    }
   ],
   "execution_count": 14
  },
  {
   "metadata": {},
   "cell_type": "markdown",
   "source": "so there are 4 outliers in the votes column, so let's replace the with the median since our data is right skewed, so we need the robust measure of central tendency. Removing them would result in loss of information since we have only 148 observations.",
   "id": "193334ffad58f55"
  },
  {
   "metadata": {
    "ExecuteTime": {
     "end_time": "2025-07-10T14:20:38.870786Z",
     "start_time": "2025-07-10T14:20:38.866669Z"
    }
   },
   "cell_type": "code",
   "source": [
    "def replace_outliers_with_median(df, column, threshold=3):\n",
    "    z_scores = np.abs(stats.zscore(df[column].dropna()))\n",
    "    outlier_mask = pd.Series(False, index=df.index)\n",
    "    outlier_mask[df[column].dropna().index] = z_scores > threshold\n",
    "    df.loc[outlier_mask, column] = df[column].dropna().median()\n",
    "    return df"
   ],
   "id": "328c73a2be0b981a",
   "outputs": [],
   "execution_count": 15
  },
  {
   "metadata": {
    "ExecuteTime": {
     "end_time": "2025-07-10T14:20:38.928902Z",
     "start_time": "2025-07-10T14:20:38.923248Z"
    }
   },
   "cell_type": "code",
   "source": "df = replace_outliers_with_median(df, 'votes')",
   "id": "117689488cc29576",
   "outputs": [
    {
     "name": "stderr",
     "output_type": "stream",
     "text": [
      "/tmp/ipykernel_58873/1313927817.py:5: FutureWarning: Setting an item of incompatible dtype is deprecated and will raise an error in a future version of pandas. Value '43.5' has dtype incompatible with int64, please explicitly cast to a compatible dtype first.\n",
      "  df.loc[outlier_mask, column] = df[column].dropna().median()\n"
     ]
    }
   ],
   "execution_count": 16
  },
  {
   "metadata": {},
   "cell_type": "markdown",
   "source": "so, we cleaned data is ready for analysis, let's save it to a new csv file.",
   "id": "9ad8b501a2d4d799"
  },
  {
   "metadata": {
    "ExecuteTime": {
     "end_time": "2025-07-10T14:23:31.424504Z",
     "start_time": "2025-07-10T14:23:31.411663Z"
    }
   },
   "cell_type": "code",
   "source": [
    "df.to_csv('data/cleaned_zomato_data.csv',\n",
    "          index=False,\n",
    "          encoding='utf-8',\n",
    "          sep=',')"
   ],
   "id": "76da275d801b31e5",
   "outputs": [],
   "execution_count": 18
  }
 ],
 "metadata": {
  "kernelspec": {
   "display_name": "Python 3",
   "language": "python",
   "name": "python3"
  },
  "language_info": {
   "codemirror_mode": {
    "name": "ipython",
    "version": 2
   },
   "file_extension": ".py",
   "mimetype": "text/x-python",
   "name": "python",
   "nbconvert_exporter": "python",
   "pygments_lexer": "ipython2",
   "version": "2.7.6"
  }
 },
 "nbformat": 4,
 "nbformat_minor": 5
}

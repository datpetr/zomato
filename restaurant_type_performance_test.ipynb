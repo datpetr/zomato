{
 "cells": [
  {
   "metadata": {},
   "cell_type": "raw",
   "source": "",
   "id": "ee32882479149900"
  },
  {
   "metadata": {
    "ExecuteTime": {
     "end_time": "2025-07-14T12:43:42.699638Z",
     "start_time": "2025-07-14T12:43:42.685549Z"
    }
   },
   "cell_type": "code",
   "source": [
    "import pandas as pd\n",
    "import numpy as np\n",
    "import matplotlib.pyplot as plt\n",
    "import seaborn as sns\n",
    "from scipy import stats\n",
    "from statsmodels.stats.proportion import proportions_ztest\n",
    "import warnings"
   ],
   "id": "141aaf6b4a05a19a",
   "outputs": [],
   "execution_count": 32
  },
  {
   "metadata": {
    "ExecuteTime": {
     "end_time": "2025-07-14T12:22:26.861901Z",
     "start_time": "2025-07-14T12:22:26.858259Z"
    }
   },
   "cell_type": "code",
   "source": "warnings.filterwarnings('ignore')",
   "id": "82228e3b1ae45105",
   "outputs": [],
   "execution_count": 2
  },
  {
   "metadata": {
    "ExecuteTime": {
     "end_time": "2025-07-14T12:22:27.830791Z",
     "start_time": "2025-07-14T12:22:27.825748Z"
    }
   },
   "cell_type": "code",
   "source": [
    "plt.style.use('default')\n",
    "sns.set_palette(\"husl\")\n",
    "plt.rcParams['figure.figsize'] = (12, 8)\n",
    "plt.rcParams['font.size'] = 10"
   ],
   "id": "f71cffaadd3155d7",
   "outputs": [],
   "execution_count": 3
  },
  {
   "metadata": {
    "ExecuteTime": {
     "end_time": "2025-07-14T12:22:31.318880Z",
     "start_time": "2025-07-14T12:22:31.312161Z"
    }
   },
   "cell_type": "code",
   "source": [
    "# Load the cleaned dataset\n",
    "df = pd.read_csv('data/cleaned_zomato_data.csv')"
   ],
   "id": "7ce9d5434d685de8",
   "outputs": [],
   "execution_count": 4
  },
  {
   "metadata": {
    "ExecuteTime": {
     "end_time": "2025-07-14T12:03:32.580515Z",
     "start_time": "2025-07-14T12:03:32.571792Z"
    }
   },
   "cell_type": "code",
   "source": "df.head()",
   "id": "9cf53d3a47a1d0f9",
   "outputs": [
    {
     "data": {
      "text/plain": [
       "                    name online_order book_table  rate  votes  \\\n",
       "0                  Jalsa          Yes        Yes   4.1  775.0   \n",
       "1         Spice Elephant          Yes         No   4.1  787.0   \n",
       "2        San Churro Cafe          Yes         No   3.8  918.0   \n",
       "3  Addhuri Udupi Bhojana           No         No   3.7   88.0   \n",
       "4          Grand Village           No         No   3.8  166.0   \n",
       "\n",
       "   approx_cost(for two people) listed_in(type)  \n",
       "0                          800          Buffet  \n",
       "1                          800          Buffet  \n",
       "2                          800          Buffet  \n",
       "3                          300          Buffet  \n",
       "4                          600          Buffet  "
      ],
      "text/html": [
       "<div>\n",
       "<style scoped>\n",
       "    .dataframe tbody tr th:only-of-type {\n",
       "        vertical-align: middle;\n",
       "    }\n",
       "\n",
       "    .dataframe tbody tr th {\n",
       "        vertical-align: top;\n",
       "    }\n",
       "\n",
       "    .dataframe thead th {\n",
       "        text-align: right;\n",
       "    }\n",
       "</style>\n",
       "<table border=\"1\" class=\"dataframe\">\n",
       "  <thead>\n",
       "    <tr style=\"text-align: right;\">\n",
       "      <th></th>\n",
       "      <th>name</th>\n",
       "      <th>online_order</th>\n",
       "      <th>book_table</th>\n",
       "      <th>rate</th>\n",
       "      <th>votes</th>\n",
       "      <th>approx_cost(for two people)</th>\n",
       "      <th>listed_in(type)</th>\n",
       "    </tr>\n",
       "  </thead>\n",
       "  <tbody>\n",
       "    <tr>\n",
       "      <th>0</th>\n",
       "      <td>Jalsa</td>\n",
       "      <td>Yes</td>\n",
       "      <td>Yes</td>\n",
       "      <td>4.1</td>\n",
       "      <td>775.0</td>\n",
       "      <td>800</td>\n",
       "      <td>Buffet</td>\n",
       "    </tr>\n",
       "    <tr>\n",
       "      <th>1</th>\n",
       "      <td>Spice Elephant</td>\n",
       "      <td>Yes</td>\n",
       "      <td>No</td>\n",
       "      <td>4.1</td>\n",
       "      <td>787.0</td>\n",
       "      <td>800</td>\n",
       "      <td>Buffet</td>\n",
       "    </tr>\n",
       "    <tr>\n",
       "      <th>2</th>\n",
       "      <td>San Churro Cafe</td>\n",
       "      <td>Yes</td>\n",
       "      <td>No</td>\n",
       "      <td>3.8</td>\n",
       "      <td>918.0</td>\n",
       "      <td>800</td>\n",
       "      <td>Buffet</td>\n",
       "    </tr>\n",
       "    <tr>\n",
       "      <th>3</th>\n",
       "      <td>Addhuri Udupi Bhojana</td>\n",
       "      <td>No</td>\n",
       "      <td>No</td>\n",
       "      <td>3.7</td>\n",
       "      <td>88.0</td>\n",
       "      <td>300</td>\n",
       "      <td>Buffet</td>\n",
       "    </tr>\n",
       "    <tr>\n",
       "      <th>4</th>\n",
       "      <td>Grand Village</td>\n",
       "      <td>No</td>\n",
       "      <td>No</td>\n",
       "      <td>3.8</td>\n",
       "      <td>166.0</td>\n",
       "      <td>600</td>\n",
       "      <td>Buffet</td>\n",
       "    </tr>\n",
       "  </tbody>\n",
       "</table>\n",
       "</div>"
      ]
     },
     "execution_count": 8,
     "metadata": {},
     "output_type": "execute_result"
    }
   ],
   "execution_count": 8
  },
  {
   "metadata": {},
   "cell_type": "markdown",
   "source": [
    "# Restaurant Type Performance Analysis with A/B Testing\n",
    "\n",
    "## Objective\n",
    "Compare performance across different restaurant categories using A/B testing methodology to understand which types perform better with specific features.\n",
    "\n",
    "**A/B Testing Framework:**\n",
    "- **Control Groups:** Baseline restaurant types (most common types)\n",
    "- **Treatment Groups:** Different restaurant categories\n",
    "- **Metrics:** Ratings, votes, cost, feature adoption rates\n",
    "- **Hypothesis:** Different restaurant types show statistically significant differences in key performance metrics\n",
    "\n",
    "## 1. Data Exploration and Preparation"
   ],
   "id": "9f2d2fad3391adea"
  },
  {
   "metadata": {
    "ExecuteTime": {
     "end_time": "2025-07-14T12:03:48.675818Z",
     "start_time": "2025-07-14T12:03:48.662705Z"
    }
   },
   "cell_type": "code",
   "source": "df.info()",
   "id": "bdf1c78caae80f13",
   "outputs": [
    {
     "name": "stdout",
     "output_type": "stream",
     "text": [
      "<class 'pandas.core.frame.DataFrame'>\n",
      "RangeIndex: 148 entries, 0 to 147\n",
      "Data columns (total 7 columns):\n",
      " #   Column                       Non-Null Count  Dtype  \n",
      "---  ------                       --------------  -----  \n",
      " 0   name                         148 non-null    object \n",
      " 1   online_order                 148 non-null    object \n",
      " 2   book_table                   148 non-null    object \n",
      " 3   rate                         148 non-null    float64\n",
      " 4   votes                        148 non-null    float64\n",
      " 5   approx_cost(for two people)  148 non-null    int64  \n",
      " 6   listed_in(type)              148 non-null    object \n",
      "dtypes: float64(2), int64(1), object(4)\n",
      "memory usage: 8.2+ KB\n"
     ]
    }
   ],
   "execution_count": 9
  },
  {
   "metadata": {
    "ExecuteTime": {
     "end_time": "2025-07-14T12:13:06.111778Z",
     "start_time": "2025-07-14T12:13:06.105378Z"
    }
   },
   "cell_type": "code",
   "source": "df.isnull().sum()",
   "id": "8922cdfc8a33448d",
   "outputs": [
    {
     "data": {
      "text/plain": [
       "name                           0\n",
       "online_order                   0\n",
       "book_table                     0\n",
       "rate                           0\n",
       "votes                          0\n",
       "approx_cost(for two people)    0\n",
       "listed_in(type)                0\n",
       "dtype: int64"
      ]
     },
     "execution_count": 10,
     "metadata": {},
     "output_type": "execute_result"
    }
   ],
   "execution_count": 10
  },
  {
   "metadata": {
    "ExecuteTime": {
     "end_time": "2025-07-14T12:13:14.158400Z",
     "start_time": "2025-07-14T12:13:14.140240Z"
    }
   },
   "cell_type": "code",
   "source": "df.describe()",
   "id": "a2ba4d954a9b44ea",
   "outputs": [
    {
     "data": {
      "text/plain": [
       "             rate        votes  approx_cost(for two people)\n",
       "count  148.000000   148.000000                   148.000000\n",
       "mean     3.633108   168.709459                   418.243243\n",
       "std      0.402271   293.896547                   223.085098\n",
       "min      2.600000     0.000000                   100.000000\n",
       "25%      3.300000     6.750000                   200.000000\n",
       "50%      3.700000    42.750000                   400.000000\n",
       "75%      3.900000   167.500000                   600.000000\n",
       "max      4.600000  1720.000000                   950.000000"
      ],
      "text/html": [
       "<div>\n",
       "<style scoped>\n",
       "    .dataframe tbody tr th:only-of-type {\n",
       "        vertical-align: middle;\n",
       "    }\n",
       "\n",
       "    .dataframe tbody tr th {\n",
       "        vertical-align: top;\n",
       "    }\n",
       "\n",
       "    .dataframe thead th {\n",
       "        text-align: right;\n",
       "    }\n",
       "</style>\n",
       "<table border=\"1\" class=\"dataframe\">\n",
       "  <thead>\n",
       "    <tr style=\"text-align: right;\">\n",
       "      <th></th>\n",
       "      <th>rate</th>\n",
       "      <th>votes</th>\n",
       "      <th>approx_cost(for two people)</th>\n",
       "    </tr>\n",
       "  </thead>\n",
       "  <tbody>\n",
       "    <tr>\n",
       "      <th>count</th>\n",
       "      <td>148.000000</td>\n",
       "      <td>148.000000</td>\n",
       "      <td>148.000000</td>\n",
       "    </tr>\n",
       "    <tr>\n",
       "      <th>mean</th>\n",
       "      <td>3.633108</td>\n",
       "      <td>168.709459</td>\n",
       "      <td>418.243243</td>\n",
       "    </tr>\n",
       "    <tr>\n",
       "      <th>std</th>\n",
       "      <td>0.402271</td>\n",
       "      <td>293.896547</td>\n",
       "      <td>223.085098</td>\n",
       "    </tr>\n",
       "    <tr>\n",
       "      <th>min</th>\n",
       "      <td>2.600000</td>\n",
       "      <td>0.000000</td>\n",
       "      <td>100.000000</td>\n",
       "    </tr>\n",
       "    <tr>\n",
       "      <th>25%</th>\n",
       "      <td>3.300000</td>\n",
       "      <td>6.750000</td>\n",
       "      <td>200.000000</td>\n",
       "    </tr>\n",
       "    <tr>\n",
       "      <th>50%</th>\n",
       "      <td>3.700000</td>\n",
       "      <td>42.750000</td>\n",
       "      <td>400.000000</td>\n",
       "    </tr>\n",
       "    <tr>\n",
       "      <th>75%</th>\n",
       "      <td>3.900000</td>\n",
       "      <td>167.500000</td>\n",
       "      <td>600.000000</td>\n",
       "    </tr>\n",
       "    <tr>\n",
       "      <th>max</th>\n",
       "      <td>4.600000</td>\n",
       "      <td>1720.000000</td>\n",
       "      <td>950.000000</td>\n",
       "    </tr>\n",
       "  </tbody>\n",
       "</table>\n",
       "</div>"
      ]
     },
     "execution_count": 11,
     "metadata": {},
     "output_type": "execute_result"
    }
   ],
   "execution_count": 11
  },
  {
   "metadata": {
    "ExecuteTime": {
     "end_time": "2025-07-14T12:27:27.746039Z",
     "start_time": "2025-07-14T12:27:27.740858Z"
    }
   },
   "cell_type": "code",
   "source": [
    "# Examine restaurant types\n",
    "print(\"Restaurant Types Distribution:\")\n",
    "restaurant_types = df['listed_in(type)'].value_counts()\n",
    "print(restaurant_types)\n",
    "print(f\"\\nTotal unique restaurant types: {len(restaurant_types)}\")"
   ],
   "id": "6b411ec2cf7ab419",
   "outputs": [
    {
     "name": "stdout",
     "output_type": "stream",
     "text": [
      "Restaurant Types Distribution:\n",
      "listed_in(type)\n",
      "Dining    110\n",
      "Cafes      23\n",
      "other       8\n",
      "Buffet      7\n",
      "Name: count, dtype: int64\n",
      "\n",
      "Total unique restaurant types: 4\n"
     ]
    }
   ],
   "execution_count": 10
  },
  {
   "metadata": {},
   "cell_type": "markdown",
   "source": "So, we will analyze whether the restaurant type are different in various metrics like ratings, votes, cost, and feature adoption (online ordering, table booking) using A/B testing methodology.",
   "id": "c1e8b4c027a65adc"
  },
  {
   "metadata": {},
   "cell_type": "markdown",
   "source": [
    "Clean and prepare data for analysis\n",
    "Convert rate to numeric (handle 'NEW' and '-' values)"
   ],
   "id": "147f30ce2f16735f"
  },
  {
   "metadata": {
    "ExecuteTime": {
     "end_time": "2025-07-14T12:25:05.608084Z",
     "start_time": "2025-07-14T12:25:05.603158Z"
    }
   },
   "cell_type": "code",
   "source": "df['rate_numeric'] = pd.to_numeric(df['rate'], errors='coerce')",
   "id": "8f89576f0e12470c",
   "outputs": [],
   "execution_count": 5
  },
  {
   "metadata": {},
   "cell_type": "markdown",
   "source": "convert cost to numeric, and convert binary features to boolean",
   "id": "5ffeff7e0ce30671"
  },
  {
   "metadata": {
    "ExecuteTime": {
     "end_time": "2025-07-14T12:25:46.569830Z",
     "start_time": "2025-07-14T12:25:46.566741Z"
    }
   },
   "cell_type": "code",
   "source": "df['cost_numeric'] = pd.to_numeric(df['approx_cost(for two people)'], errors='coerce')",
   "id": "8771eb40e0c8db0",
   "outputs": [],
   "execution_count": 6
  },
  {
   "metadata": {},
   "cell_type": "markdown",
   "source": "Convert binary features to boolean",
   "id": "cdb0c2b8b8fec9ff"
  },
  {
   "metadata": {
    "ExecuteTime": {
     "end_time": "2025-07-14T12:26:17.836162Z",
     "start_time": "2025-07-14T12:26:17.829652Z"
    }
   },
   "cell_type": "code",
   "source": [
    "df['online_order_bool'] = df['online_order'].map({'Yes': True, 'No': False})\n",
    "df['book_table_bool'] = df['book_table'].map({'Yes': True, 'No': False})"
   ],
   "id": "e5dee5e2c5709239",
   "outputs": [],
   "execution_count": 7
  },
  {
   "metadata": {},
   "cell_type": "markdown",
   "source": [
    "## 2. A/B Testing Setup and Group Definition\n",
    "\n",
    "### 2.1 Define Control and Treatment Groups"
   ],
   "id": "f2df9c28822cc35c"
  },
  {
   "metadata": {},
   "cell_type": "markdown",
   "source": "Get the most common restaurant types for A/B testing",
   "id": "c55d680d34cd42d9"
  },
  {
   "metadata": {
    "ExecuteTime": {
     "end_time": "2025-07-14T12:27:30.108331Z",
     "start_time": "2025-07-14T12:27:30.099020Z"
    }
   },
   "cell_type": "code",
   "source": [
    "top_restaurant_types = restaurant_types.head(10)\n",
    "top_restaurant_types"
   ],
   "id": "3031966a5198ca9a",
   "outputs": [
    {
     "data": {
      "text/plain": [
       "listed_in(type)\n",
       "Dining    110\n",
       "Cafes      23\n",
       "other       8\n",
       "Buffet      7\n",
       "Name: count, dtype: int64"
      ]
     },
     "execution_count": 11,
     "metadata": {},
     "output_type": "execute_result"
    }
   ],
   "execution_count": 11
  },
  {
   "metadata": {},
   "cell_type": "markdown",
   "source": "Define control group (most common type) and treatment groups",
   "id": "41551b12bf375e0f"
  },
  {
   "metadata": {
    "ExecuteTime": {
     "end_time": "2025-07-14T12:28:13.740485Z",
     "start_time": "2025-07-14T12:28:13.736496Z"
    }
   },
   "cell_type": "code",
   "source": [
    "control_group = top_restaurant_types.index[0]  # Most common type as control\n",
    "treatment_groups = top_restaurant_types.index[1:6].tolist()  # Next 5 types as treatments"
   ],
   "id": "e66d6d12e4034ee0",
   "outputs": [],
   "execution_count": 12
  },
  {
   "metadata": {
    "ExecuteTime": {
     "end_time": "2025-07-14T12:29:40.263247Z",
     "start_time": "2025-07-14T12:29:40.258701Z"
    }
   },
   "cell_type": "code",
   "source": "control_group",
   "id": "ede7cb705fe86936",
   "outputs": [
    {
     "data": {
      "text/plain": [
       "'Dining'"
      ]
     },
     "execution_count": 16,
     "metadata": {},
     "output_type": "execute_result"
    }
   ],
   "execution_count": 16
  },
  {
   "metadata": {
    "ExecuteTime": {
     "end_time": "2025-07-14T12:30:19.651413Z",
     "start_time": "2025-07-14T12:30:19.647807Z"
    }
   },
   "cell_type": "code",
   "source": "treatment_groups",
   "id": "6cba48cf876d4702",
   "outputs": [
    {
     "data": {
      "text/plain": [
       "['Cafes', 'other', 'Buffet']"
      ]
     },
     "execution_count": 17,
     "metadata": {},
     "output_type": "execute_result"
    }
   ],
   "execution_count": 17
  },
  {
   "metadata": {},
   "cell_type": "markdown",
   "source": "Create A/B test dataset",
   "id": "e7a49931805685a"
  },
  {
   "metadata": {
    "ExecuteTime": {
     "end_time": "2025-07-14T12:30:49.544346Z",
     "start_time": "2025-07-14T12:30:49.540371Z"
    }
   },
   "cell_type": "code",
   "source": [
    "ab_test_types = [control_group] + treatment_groups\n",
    "df_ab = df[df['listed_in(type)'].isin(ab_test_types)].copy()"
   ],
   "id": "7d2ba7109691aa7e",
   "outputs": [],
   "execution_count": 18
  },
  {
   "metadata": {
    "ExecuteTime": {
     "end_time": "2025-07-14T12:30:56.525535Z",
     "start_time": "2025-07-14T12:30:56.520847Z"
    }
   },
   "cell_type": "code",
   "source": [
    "print(f\"\\nA/B Test Dataset Shape: {df_ab.shape}\")\n",
    "print(f\"Distribution in A/B Test:\")\n",
    "print(df_ab['listed_in(type)'].value_counts())"
   ],
   "id": "622ec7ac7dbd8cb8",
   "outputs": [
    {
     "name": "stdout",
     "output_type": "stream",
     "text": [
      "\n",
      "A/B Test Dataset Shape: (148, 11)\n",
      "Distribution in A/B Test:\n",
      "listed_in(type)\n",
      "Dining    110\n",
      "Cafes      23\n",
      "other       8\n",
      "Buffet      7\n",
      "Name: count, dtype: int64\n"
     ]
    }
   ],
   "execution_count": 19
  },
  {
   "metadata": {},
   "cell_type": "markdown",
   "source": "### 2.2 A/B Testing Functions",
   "id": "5dc8c6651545640"
  },
  {
   "metadata": {
    "ExecuteTime": {
     "end_time": "2025-07-14T12:31:13.595462Z",
     "start_time": "2025-07-14T12:31:13.592588Z"
    }
   },
   "cell_type": "code",
   "source": [
    "def calculate_effect_size(control, treatment):\n",
    "    \"\"\"Calculate Cohen's d effect size\"\"\"\n",
    "    pooled_std = np.sqrt(((len(control) - 1) * control.var() +\n",
    "                          (len(treatment) - 1) * treatment.var()) /\n",
    "                         (len(control) + len(treatment) - 2))\n",
    "    return (treatment.mean() - control.mean()) / pooled_std"
   ],
   "id": "1675ba326c34bce",
   "outputs": [],
   "execution_count": 20
  },
  {
   "metadata": {
    "ExecuteTime": {
     "end_time": "2025-07-14T12:31:26.192017Z",
     "start_time": "2025-07-14T12:31:26.189032Z"
    }
   },
   "cell_type": "code",
   "source": [
    "def calculate_confidence_interval(data, confidence=0.95):\n",
    "    \"\"\"Calculate confidence interval for mean\"\"\"\n",
    "    n = len(data)\n",
    "    mean = data.mean()\n",
    "    sem = stats.sem(data)\n",
    "    ci = stats.t.interval(confidence, n-1, loc=mean, scale=sem)\n",
    "    return ci"
   ],
   "id": "27a556449313a455",
   "outputs": [],
   "execution_count": 21
  },
  {
   "metadata": {
    "ExecuteTime": {
     "end_time": "2025-07-14T12:31:35.738295Z",
     "start_time": "2025-07-14T12:31:35.733865Z"
    }
   },
   "cell_type": "code",
   "source": [
    "def perform_ab_test(control_data, treatment_data, metric_name, alpha=0.05):\n",
    "    \"\"\"Perform comprehensive A/B test\"\"\"\n",
    "    # Remove NaN values\n",
    "    control_clean = control_data.dropna()\n",
    "    treatment_clean = treatment_data.dropna()\n",
    "\n",
    "    if len(control_clean) < 5 or len(treatment_clean) < 5:\n",
    "        return None\n",
    "\n",
    "    # Perform t-test\n",
    "    t_stat, p_value = stats.ttest_ind(control_clean, treatment_clean)\n",
    "\n",
    "    # Calculate effect size\n",
    "    effect_size = calculate_effect_size(control_clean, treatment_clean)\n",
    "\n",
    "    # Calculate confidence intervals\n",
    "    control_ci = calculate_confidence_interval(control_clean)\n",
    "    treatment_ci = calculate_confidence_interval(treatment_clean)\n",
    "\n",
    "    # Calculate practical significance (lift)\n",
    "    control_mean = control_clean.mean()\n",
    "    treatment_mean = treatment_clean.mean()\n",
    "    lift = ((treatment_mean - control_mean) / control_mean) * 100 if control_mean != 0 else 0\n",
    "\n",
    "    # Determine significance\n",
    "    is_significant = p_value < alpha\n",
    "\n",
    "    results = {\n",
    "        'metric': metric_name,\n",
    "        'control_mean': control_mean,\n",
    "        'treatment_mean': treatment_mean,\n",
    "        'control_ci': control_ci,\n",
    "        'treatment_ci': treatment_ci,\n",
    "        'lift_percent': lift,\n",
    "        't_statistic': t_stat,\n",
    "        'p_value': p_value,\n",
    "        'effect_size': effect_size,\n",
    "        'is_significant': is_significant,\n",
    "        'control_n': len(control_clean),\n",
    "        'treatment_n': len(treatment_clean)\n",
    "    }\n",
    "\n",
    "    return results"
   ],
   "id": "d38ec4900ce6c743",
   "outputs": [],
   "execution_count": 22
  },
  {
   "metadata": {},
   "cell_type": "markdown",
   "source": [
    "## 3. A/B Testing Analysis\n",
    "\n",
    "### 3.1 Rating Performance A/B Test"
   ],
   "id": "bd25979294f6c871"
  },
  {
   "metadata": {},
   "cell_type": "markdown",
   "source": "Get control group data",
   "id": "8f801b53c5fc05e3"
  },
  {
   "metadata": {
    "ExecuteTime": {
     "end_time": "2025-07-14T12:32:06.424690Z",
     "start_time": "2025-07-14T12:32:06.420994Z"
    }
   },
   "cell_type": "code",
   "source": "control_data = df_ab[df_ab['listed_in(type)'] == control_group]",
   "id": "f0478f68e1cf2ec7",
   "outputs": [],
   "execution_count": 23
  },
  {
   "metadata": {},
   "cell_type": "markdown",
   "source": "Start all rating test results",
   "id": "2c3831b4b9d1b279"
  },
  {
   "metadata": {
    "ExecuteTime": {
     "end_time": "2025-07-14T12:32:37.964599Z",
     "start_time": "2025-07-14T12:32:37.961865Z"
    }
   },
   "cell_type": "code",
   "source": "rating_test_results = []",
   "id": "497a7bdf594de69e",
   "outputs": [],
   "execution_count": 24
  },
  {
   "metadata": {
    "ExecuteTime": {
     "end_time": "2025-07-14T12:32:40.722753Z",
     "start_time": "2025-07-14T12:32:40.707299Z"
    }
   },
   "cell_type": "code",
   "source": [
    "for treatment_type in treatment_groups:\n",
    "    treatment_data = df_ab[df_ab['listed_in(type)'] == treatment_type]\n",
    "\n",
    "    # Perform A/B test for ratings\n",
    "    result = perform_ab_test(\n",
    "        control_data['rate_numeric'],\n",
    "        treatment_data['rate_numeric'],\n",
    "        f'Rating: {control_group} vs {treatment_type}'\n",
    "    )\n",
    "\n",
    "    if result:\n",
    "        rating_test_results.append(result)\n",
    "\n",
    "        print(f\"\\n{treatment_type} vs {control_group} (Control):\")\n",
    "        print(f\"  Control Mean Rating: {result['control_mean']:.3f} (n={result['control_n']})\")\n",
    "        print(f\"  Treatment Mean Rating: {result['treatment_mean']:.3f} (n={result['treatment_n']})\")\n",
    "        print(f\"  Lift: {result['lift_percent']:.2f}%\")\n",
    "        print(f\"  P-value: {result['p_value']:.4e}\")\n",
    "        print(f\"  Effect Size (Cohen's d): {result['effect_size']:.3f}\")\n",
    "        print(f\"  Significant: {'✓' if result['is_significant'] else '✗'}\")\n"
   ],
   "id": "a1a5530ff6a294f7",
   "outputs": [
    {
     "name": "stdout",
     "output_type": "stream",
     "text": [
      "\n",
      "Cafes vs Dining (Control):\n",
      "  Control Mean Rating: 3.572 (n=110)\n",
      "  Treatment Mean Rating: 3.765 (n=23)\n",
      "  Lift: 5.41%\n",
      "  P-value: 2.6851e-02\n",
      "  Effect Size (Cohen's d): 0.513\n",
      "  Significant: ✓\n",
      "\n",
      "other vs Dining (Control):\n",
      "  Control Mean Rating: 3.572 (n=110)\n",
      "  Treatment Mean Rating: 3.913 (n=8)\n",
      "  Lift: 9.54%\n",
      "  P-value: 2.1386e-02\n",
      "  Effect Size (Cohen's d): 0.854\n",
      "  Significant: ✓\n",
      "\n",
      "Buffet vs Dining (Control):\n",
      "  Control Mean Rating: 3.572 (n=110)\n",
      "  Treatment Mean Rating: 3.843 (n=7)\n",
      "  Lift: 7.59%\n",
      "  P-value: 6.0252e-02\n",
      "  Effect Size (Cohen's d): 0.740\n",
      "  Significant: ✗\n"
     ]
    }
   ],
   "execution_count": 26
  },
  {
   "metadata": {},
   "cell_type": "markdown",
   "source": [
    "## Rating Performance A/B Test Results\n",
    "\n",
    "### **Significant Winners Against Dining Restaurants**\n",
    "\n",
    "#### **🏆 \"Other\" Category - Highest Performance**\n",
    "**Rating boost of +9.54%** with strong statistical evidence (p = 0.021, large effect size d = 0.854). Despite small sample (8 restaurants), shows consistent outperformance over dining baseline.\n",
    "\n",
    "#### **Cafes - Moderate Performance Advantage**\n",
    "**Rating boost of +5.41%** with solid statistical significance (p = 0.027, medium effect size d = 0.513). Adequate sample size (23 cafes) provides reliable evidence of superior customer satisfaction.\n",
    "\n",
    "### **Promising but Unconfirmed**\n",
    "\n",
    "#### **Buffet - Strong Trend, Insufficient Evidence**\n",
    "**Rating boost of +7.59%** with large effect size (d = 0.740) but **not statistically significant** (p = 0.060). Only 7 buffet restaurants create insufficient statistical power - **needs larger sample to confirm promising trend**.\n",
    "\n",
    "### **Business Intelligence**\n",
    "\n",
    "```markdown\n",
    "**Performance Ranking vs Dining:**\n",
    "1. Other Category: +9.54% ⭐⭐⭐ (confirmed)\n",
    "2. Buffet: +7.59% (promising, needs validation)\n",
    "3. Cafes: +5.41% ⭐⭐ (confirmed)\n",
    "4. Dining: Baseline performance\n",
    "```\n",
    "\n",
    "### **Key Takeaway**\n",
    "**Specialty restaurant formats consistently outperform traditional dining** in customer ratings, suggesting format differentiation drives satisfaction. Traditional dining has clear improvement opportunities by adopting successful elements from specialty categories."
   ],
   "id": "caa4cde58bb8ae51"
  },
  {
   "metadata": {},
   "cell_type": "markdown",
   "source": [
    "\n",
    "### 3.2 Vote Count A/B Test"
   ],
   "id": "b2efe59cb49a56a3"
  },
  {
   "metadata": {
    "ExecuteTime": {
     "end_time": "2025-07-14T12:38:00.007856Z",
     "start_time": "2025-07-14T12:38:00.005489Z"
    }
   },
   "cell_type": "code",
   "source": "vote_test_results = []",
   "id": "70f19c24a559123a",
   "outputs": [],
   "execution_count": 27
  },
  {
   "metadata": {
    "ExecuteTime": {
     "end_time": "2025-07-14T12:38:11.619605Z",
     "start_time": "2025-07-14T12:38:11.602105Z"
    }
   },
   "cell_type": "code",
   "source": [
    "for treatment_type in treatment_groups:\n",
    "    treatment_data = df_ab[df_ab['listed_in(type)'] == treatment_type]\n",
    "\n",
    "    # Perform A/B test for votes\n",
    "    result = perform_ab_test(\n",
    "        control_data['votes'],\n",
    "        treatment_data['votes'],\n",
    "        f'Votes: {control_group} vs {treatment_type}'\n",
    "    )\n",
    "\n",
    "    if result:\n",
    "        vote_test_results.append(result)\n",
    "\n",
    "        print(f\"\\n{treatment_type} vs {control_group} (Control):\")\n",
    "        print(f\"  Control Mean Votes: {result['control_mean']:.1f} (n={result['control_n']})\")\n",
    "        print(f\"  Treatment Mean Votes: {result['treatment_mean']:.1f} (n={result['treatment_n']})\")\n",
    "        print(f\"  Lift: {result['lift_percent']:.2f}%\")\n",
    "        print(f\"  P-value: {result['p_value']:.4e}\")\n",
    "        print(f\"  Effect Size (Cohen's d): {result['effect_size']:.3f}\")\n",
    "        print(f\"  Significant: {'✓' if result['is_significant'] else '✗'}\")\n"
   ],
   "id": "72f57e118ad4545d",
   "outputs": [
    {
     "name": "stdout",
     "output_type": "stream",
     "text": [
      "\n",
      "Cafes vs Dining (Control):\n",
      "  Control Mean Votes: 145.5 (n=110)\n",
      "  Treatment Mean Votes: 170.5 (n=23)\n",
      "  Lift: 17.18%\n",
      "  P-value: 7.0741e-01\n",
      "  Effect Size (Cohen's d): 0.086\n",
      "  Significant: ✗\n",
      "\n",
      "other vs Dining (Control):\n",
      "  Control Mean Votes: 145.5 (n=110)\n",
      "  Treatment Mean Votes: 251.8 (n=8)\n",
      "  Lift: 73.02%\n",
      "  P-value: 3.3062e-01\n",
      "  Effect Size (Cohen's d): 0.358\n",
      "  Significant: ✗\n",
      "\n",
      "Buffet vs Dining (Control):\n",
      "  Control Mean Votes: 145.5 (n=110)\n",
      "  Treatment Mean Votes: 432.6 (n=7)\n",
      "  Lift: 197.29%\n",
      "  P-value: 1.8267e-02\n",
      "  Effect Size (Cohen's d): 0.933\n",
      "  Significant: ✓\n"
     ]
    }
   ],
   "execution_count": 28
  },
  {
   "metadata": {},
   "cell_type": "markdown",
   "source": [
    "## A/B Test Results: Vote Count Interpretation\n",
    "\n",
    "### **Key Finding: Buffets Drive Exceptional Customer Engagement**\n",
    "\n",
    "**Buffet restaurants generate nearly 3x more customer votes** than traditional dining establishments (433 vs 146 votes), representing a statistically significant **197% engagement boost** (p = 0.018).\n",
    "\n",
    "**Other restaurant categories show promising but unconfirmed trends** - \"Other\" types indicate 73% higher engagement and cafes show 17% improvement, but small sample sizes prevent statistical confirmation.\n",
    "\n",
    "**Business Insight:** The buffet service model's interactive nature (self-service, variety, value perception) significantly drives customer feedback and engagement compared to traditional dining formats."
   ],
   "id": "953b38b7d2ec5b49"
  },
  {
   "metadata": {},
   "cell_type": "markdown",
   "source": [
    "\n",
    "### 3.3 Cost Analysis A/B Test"
   ],
   "id": "816c9850aec31cee"
  },
  {
   "metadata": {
    "ExecuteTime": {
     "end_time": "2025-07-14T12:41:13.671374Z",
     "start_time": "2025-07-14T12:41:13.668226Z"
    }
   },
   "cell_type": "code",
   "source": "cost_test_results = []",
   "id": "6c381313bdaa9e3c",
   "outputs": [],
   "execution_count": 29
  },
  {
   "metadata": {
    "ExecuteTime": {
     "end_time": "2025-07-14T12:41:29.036090Z",
     "start_time": "2025-07-14T12:41:29.021253Z"
    }
   },
   "cell_type": "code",
   "source": [
    "for treatment_type in treatment_groups:\n",
    "    treatment_data = df_ab[df_ab['listed_in(type)'] == treatment_type]\n",
    "\n",
    "    # Perform A/B test for cost\n",
    "    result = perform_ab_test(\n",
    "        control_data['cost_numeric'],\n",
    "        treatment_data['cost_numeric'],\n",
    "        f'Cost: {control_group} vs {treatment_type}'\n",
    "    )\n",
    "\n",
    "    if result:\n",
    "        cost_test_results.append(result)\n",
    "\n",
    "        print(f\"\\n{treatment_type} vs {control_group} (Control):\")\n",
    "        print(f\"  Control Mean Cost: ₹{result['control_mean']:.0f} (n={result['control_n']})\")\n",
    "        print(f\"  Treatment Mean Cost: ₹{result['treatment_mean']:.0f} (n={result['treatment_n']})\")\n",
    "        print(f\"  Lift: {result['lift_percent']:.2f}%\")\n",
    "        print(f\"  P-value: {result['p_value']:.4e}\")\n",
    "        print(f\"  Effect Size (Cohen's d): {result['effect_size']:.3f}\")\n",
    "        print(f\"  Significant: {'✓' if result['is_significant'] else '✗'}\")\n"
   ],
   "id": "784cffb720aee681",
   "outputs": [
    {
     "name": "stdout",
     "output_type": "stream",
     "text": [
      "\n",
      "Cafes vs Dining (Control):\n",
      "  Control Mean Cost: ₹357 (n=110)\n",
      "  Treatment Mean Cost: ₹546 (n=23)\n",
      "  Lift: 52.73%\n",
      "  P-value: 7.2391e-05\n",
      "  Effect Size (Cohen's d): 0.940\n",
      "  Significant: ✓\n",
      "\n",
      "other vs Dining (Control):\n",
      "  Control Mean Cost: ₹357 (n=110)\n",
      "  Treatment Mean Cost: ₹669 (n=8)\n",
      "  Lift: 87.18%\n",
      "  P-value: 5.3161e-05\n",
      "  Effect Size (Cohen's d): 1.537\n",
      "  Significant: ✓\n",
      "\n",
      "Buffet vs Dining (Control):\n",
      "  Control Mean Cost: ₹357 (n=110)\n",
      "  Treatment Mean Cost: ₹671 (n=7)\n",
      "  Lift: 87.93%\n",
      "  P-value: 1.5370e-04\n",
      "  Effect Size (Cohen's d): 1.526\n",
      "  Significant: ✓\n"
     ]
    }
   ],
   "execution_count": 30
  },
  {
   "metadata": {},
   "cell_type": "markdown",
   "source": [
    "## Cost Performance A/B Test Results\n",
    "\n",
    "### **All Categories Significantly More Expensive Than Dining**\n",
    "\n",
    "#### **🏆 Buffet & \"Other\" - Premium Pricing Leaders**\n",
    "**Cost increase of ~88%** (buffets ₹671, \"other\" ₹669 vs dining ₹357) with extremely strong statistical evidence (p < 0.0002, very large effect sizes d > 1.5). These formats command **nearly double the price** of traditional dining.\n",
    "\n",
    "#### **🥈 Cafes - Moderate Premium Positioning**\n",
    "**Cost increase of +53%** (₹546 vs ₹357) with high statistical significance (p < 0.0001, large effect size d = 0.940). Cafes establish clear premium positioning over dining restaurants.\n",
    "\n",
    "### **Business Intelligence**\n",
    "\n",
    "```markdown\n",
    "**Pricing Hierarchy vs Dining (₹357 baseline):**\n",
    "1. Buffet: ₹671 (+88%) ⭐⭐⭐\n",
    "2. Other: ₹669 (+87%) ⭐⭐⭐\n",
    "3. Cafes: ₹546 (+53%) ⭐⭐\n",
    "4. Dining: ₹357 (baseline)\n",
    "```\n",
    "\n",
    "### **Key Takeaway**\n",
    "**All specialty restaurant formats command significant price premiums** over traditional dining, suggesting customers willingly pay more for differentiated experiences. **Premium pricing correlates with higher satisfaction** (from earlier rating analysis), indicating successful value proposition delivery across specialty categories.\n",
    "\n",
    "**Strategic Insight**: Specialty formats justify higher prices through enhanced customer experience, supporting both premium positioning and profitability strategies."
   ],
   "id": "73197fe8beed8c8d"
  },
  {
   "metadata": {},
   "cell_type": "markdown",
   "source": "### 3.4 Feature Adoption A/B Test (Proportion Tests)",
   "id": "e9472084eadda796"
  },
  {
   "metadata": {
    "ExecuteTime": {
     "end_time": "2025-07-14T13:08:20.867712Z",
     "start_time": "2025-07-14T13:08:20.847398Z"
    }
   },
   "cell_type": "code",
   "source": [
    "def perform_proportion_test(control_data, treatment_data, feature_name, alpha=0.05):\n",
    "    \"\"\"Perform proportion test for binary features\"\"\"\n",
    "    control_successes = control_data.sum()\n",
    "    control_total = len(control_data)\n",
    "    treatment_successes = treatment_data.sum()\n",
    "    treatment_total = len(treatment_data)\n",
    "\n",
    "    if control_total < 5 or treatment_total < 5:\n",
    "        return None\n",
    "\n",
    "    # Calculate proportions\n",
    "    control_prop = control_successes / control_total\n",
    "    treatment_prop = treatment_successes / treatment_total\n",
    "\n",
    "    # Perform two-proportion z-test\n",
    "    from statsmodels.stats.proportion import proportions_ztest\n",
    "    counts = np.array([control_successes, treatment_successes])\n",
    "    nobs = np.array([control_total, treatment_total])\n",
    "\n",
    "    z_stat, p_value = proportions_ztest(counts, nobs)\n",
    "\n",
    "    # Calculate lift\n",
    "    lift = ((treatment_prop - control_prop) / control_prop) * 100 if control_prop > 0 else 0\n",
    "\n",
    "    # Calculate confidence intervals for proportions\n",
    "    control_ci = stats.binom.interval(0.95, control_total, control_prop)\n",
    "    treatment_ci = stats.binom.interval(0.95, treatment_total, treatment_prop)\n",
    "\n",
    "    control_ci = (control_ci[0]/control_total, control_ci[1]/control_total)\n",
    "    treatment_ci = (treatment_ci[0]/treatment_total, treatment_ci[1]/treatment_total)\n",
    "\n",
    "    results = {\n",
    "        'metric': feature_name,\n",
    "        'control_prop': control_prop,\n",
    "        'treatment_prop': treatment_prop,\n",
    "        'control_ci': control_ci,\n",
    "        'treatment_ci': treatment_ci,\n",
    "        'lift_percent': lift,\n",
    "        'z_statistic': z_stat,\n",
    "        'p_value': p_value,\n",
    "        'is_significant': p_value < alpha,\n",
    "        'control_n': control_total,\n",
    "        'treatment_n': treatment_total\n",
    "    }\n",
    "\n",
    "    return results\n",
    "\n",
    "print(\"\\n\" + \"=\" * 80)\n",
    "print(\"                 ONLINE ORDERING ADOPTION A/B TESTS\")\n",
    "print(\"=\" * 80)\n",
    "\n",
    "online_order_results = []\n",
    "\n",
    "for treatment_type in treatment_groups:\n",
    "    treatment_data = df_ab[df_ab['listed_in(type)'] == treatment_type]\n",
    "\n",
    "    # Perform proportion test for online ordering\n",
    "    result = perform_proportion_test(\n",
    "        control_data['online_order_bool'].dropna(),\n",
    "        treatment_data['online_order_bool'].dropna(),\n",
    "        f'Online Order: {control_group} vs {treatment_type}'\n",
    "    )\n",
    "\n",
    "    if result:\n",
    "        online_order_results.append(result)\n",
    "\n",
    "        print(f\"\\n{treatment_type} vs {control_group} (Control):\")\n",
    "        print(f\"  Control Adoption Rate: {result['control_prop']:.1%} (n={result['control_n']})\")\n",
    "        print(f\"  Treatment Adoption Rate: {result['treatment_prop']:.1%} (n={result['treatment_n']})\")\n",
    "        print(f\"  Lift: {result['lift_percent']:.2f}%\")\n",
    "        print(f\"  P-value: {result['p_value']:.4e}\")\n",
    "        print(f\"  Z-statistic: {result['z_statistic']:.3f}\")\n",
    "        print(f\"  Significant: {'✓' if result['is_significant'] else '✗'}\")\n",
    "\n",
    "print(\"\\n\" + \"=\" * 80)\n",
    "print(\"                 TABLE BOOKING ADOPTION A/B TESTS\")\n",
    "print(\"=\" * 80)\n",
    "\n",
    "table_booking_results = []\n",
    "\n",
    "for treatment_type in treatment_groups:\n",
    "    treatment_data = df_ab[df_ab['listed_in(type)'] == treatment_type]\n",
    "\n",
    "    # Perform proportion test for table booking\n",
    "    result = perform_proportion_test(\n",
    "        control_data['book_table_bool'].dropna(),\n",
    "        treatment_data['book_table_bool'].dropna(),\n",
    "        f'Table Booking: {control_group} vs {treatment_type}'\n",
    "    )\n",
    "\n",
    "    if result:\n",
    "        table_booking_results.append(result)\n",
    "\n",
    "        print(f\"\\n{treatment_type} vs {control_group} (Control):\")\n",
    "        print(f\"  Control Adoption Rate: {result['control_prop']:.1%} (n={result['control_n']})\")\n",
    "        print(f\"  Treatment Adoption Rate: {result['treatment_prop']:.1%} (n={result['treatment_n']})\")\n",
    "        print(f\"  Lift: {result['lift_percent']:.2f}%\")\n",
    "        print(f\"  P-value: {result['p_value']:.4e}\")\n",
    "        print(f\"  Z-statistic: {result['z_statistic']:.3f}\")\n",
    "        print(f\"  Significant: {'✓' if result['is_significant'] else '✗'}\")\n"
   ],
   "id": "8525b46d2a49ef28",
   "outputs": [
    {
     "name": "stdout",
     "output_type": "stream",
     "text": [
      "\n",
      "================================================================================\n",
      "                 ONLINE ORDERING ADOPTION A/B TESTS\n",
      "================================================================================\n",
      "\n",
      "Cafes vs Dining (Control):\n",
      "  Control Adoption Rate: 30.0% (n=110)\n",
      "  Treatment Adoption Rate: 65.2% (n=23)\n",
      "  Lift: 117.39%\n",
      "  P-value: 1.3826e-03\n",
      "  Z-statistic: -3.198\n",
      "  Significant: ✓\n",
      "\n",
      "other vs Dining (Control):\n",
      "  Control Adoption Rate: 30.0% (n=110)\n",
      "  Treatment Adoption Rate: 75.0% (n=8)\n",
      "  Lift: 150.00%\n",
      "  P-value: 8.9894e-03\n",
      "  Z-statistic: -2.612\n",
      "  Significant: ✓\n",
      "\n",
      "Buffet vs Dining (Control):\n",
      "  Control Adoption Rate: 30.0% (n=110)\n",
      "  Treatment Adoption Rate: 57.1% (n=7)\n",
      "  Lift: 90.48%\n",
      "  P-value: 1.3428e-01\n",
      "  Z-statistic: -1.497\n",
      "  Significant: ✗\n",
      "\n",
      "================================================================================\n",
      "                 TABLE BOOKING ADOPTION A/B TESTS\n",
      "================================================================================\n",
      "\n",
      "Cafes vs Dining (Control):\n",
      "  Control Adoption Rate: 1.8% (n=110)\n",
      "  Treatment Adoption Rate: 13.0% (n=23)\n",
      "  Lift: 617.39%\n",
      "  P-value: 1.0056e-02\n",
      "  Z-statistic: -2.574\n",
      "  Significant: ✓\n",
      "\n",
      "other vs Dining (Control):\n",
      "  Control Adoption Rate: 1.8% (n=110)\n",
      "  Treatment Adoption Rate: 25.0% (n=8)\n",
      "  Lift: 1275.00%\n",
      "  P-value: 4.6837e-04\n",
      "  Z-statistic: -3.498\n",
      "  Significant: ✓\n",
      "\n",
      "Buffet vs Dining (Control):\n",
      "  Control Adoption Rate: 1.8% (n=110)\n",
      "  Treatment Adoption Rate: 14.3% (n=7)\n",
      "  Lift: 685.71%\n",
      "  P-value: 4.3020e-02\n",
      "  Z-statistic: -2.024\n",
      "  Significant: ✓\n"
     ]
    }
   ],
   "execution_count": 33
  },
  {
   "metadata": {},
   "cell_type": "markdown",
   "source": [
    "## Digital Feature Adoption A/B Test Results\n",
    "\n",
    "### **Online Ordering Performance**\n",
    "\n",
    "#### **\"Other\" Category - Exceptional Digital Adoption**\n",
    "**Online ordering boost of +150%** (75% vs 30% adoption) with strong statistical significance (p = 0.009, z = -2.612). Despite small sample (8 restaurants), shows the highest digital engagement among all categories.\n",
    "\n",
    "#### **Cafes - Strong Digital Performance**\n",
    "**Online ordering boost of +117%** (65.2% vs 30% adoption) with high statistical significance (p = 0.001, z = -3.198). Cafes demonstrate more than double the online ordering adoption rate compared to traditional dining.\n",
    "\n",
    "#### **Buffet - Promising but Unconfirmed**\n",
    "**Online ordering boost of +90%** (57.1% vs 30% adoption) but **not statistically significant** (p = 0.134). Small sample size (7 buffets) prevents confirmation of this promising trend.\n",
    "\n",
    "### **Table Booking Performance**\n",
    "\n",
    "#### **All Specialty Categories Significantly Outperform Dining**\n",
    "**Massive table booking adoption increases** across all categories: \"Other\" (+1275%), Buffet (+686%), and Cafes (+617%) - all statistically significant (p < 0.05). Traditional dining shows extremely low baseline adoption (1.8%).\n",
    "\n",
    "### **Business Intelligence**\n",
    "\n",
    "```markdown\n",
    "**Digital Adoption Ranking vs Dining (30% online, 1.8% table booking):**\n",
    "1. Other: 75% online (+150%), 25% table booking (+1275%) ⭐⭐⭐\n",
    "2. Cafes: 65% online (+117%), 13% table booking (+617%) ⭐⭐⭐\n",
    "3. Buffet: 57% online (+90%), 14% table booking (+686%) ⭐⭐\n",
    "4. Dining: Baseline low digital adoption\n",
    "```\n",
    "\n",
    "### **Key Takeaway**\n",
    "**Specialty restaurant formats are digital-first businesses** with dramatically higher adoption of both online ordering and table booking features. Traditional dining establishments have significant digital transformation opportunities, particularly in table booking where adoption is critically low at under 2%."
   ],
   "id": "2b70b4c38b3a176e"
  },
  {
   "metadata": {},
   "cell_type": "markdown",
   "source": [
    "## 4. A/B Test Results Visualization\n",
    "\n",
    "### 4.1 Rating Performance Comparison"
   ],
   "id": "7790fabb073f16d1"
  },
  {
   "metadata": {
    "ExecuteTime": {
     "end_time": "2025-07-14T13:08:29.546585Z",
     "start_time": "2025-07-14T13:08:28.456877Z"
    }
   },
   "cell_type": "code",
   "source": [
    "# Create visualization for rating A/B tests\n",
    "fig, axes = plt.subplots(2, 2, figsize=(20, 15))\n",
    "\n",
    "# Plot 1: Mean ratings comparison\n",
    "if rating_test_results:\n",
    "    treatment_names = [r['metric'].split(': ')[1].split(' vs ')[0] for r in rating_test_results]\n",
    "    control_means = [r['control_mean'] for r in rating_test_results]\n",
    "    treatment_means = [r['treatment_mean'] for r in rating_test_results]\n",
    "\n",
    "    x = np.arange(len(treatment_names))\n",
    "    width = 0.35\n",
    "\n",
    "    axes[0,0].bar(x - width/2, control_means, width, label=f'{control_group} (Control)', alpha=0.7, color='skyblue')\n",
    "    axes[0,0].bar(x + width/2, treatment_means, width, label='Treatment Groups', alpha=0.7, color='lightcoral')\n",
    "    axes[0,0].set_xlabel('Restaurant Types')\n",
    "    axes[0,0].set_ylabel('Average Rating')\n",
    "    axes[0,0].set_title('Rating A/B Test Results - Mean Comparison')\n",
    "    axes[0,0].set_xticks(x)\n",
    "    axes[0,0].set_xticklabels(treatment_names, rotation=45, ha='right')\n",
    "    axes[0,0].legend()\n",
    "    axes[0,0].grid(axis='y', alpha=0.3)\n",
    "\n",
    "# Plot 2: Effect sizes\n",
    "if rating_test_results:\n",
    "    effect_sizes = [r['effect_size'] for r in rating_test_results]\n",
    "    colors = ['green' if r['is_significant'] else 'red' for r in rating_test_results]\n",
    "\n",
    "    axes[0,1].bar(treatment_names, effect_sizes, color=colors, alpha=0.7)\n",
    "    axes[0,1].set_xlabel('Restaurant Types')\n",
    "    axes[0,1].set_ylabel('Effect Size (Cohen\\'s d)')\n",
    "    axes[0,1].set_title('Rating A/B Test - Effect Sizes')\n",
    "    axes[0,1].tick_params(axis='x', rotation=45)\n",
    "    axes[0,1].axhline(y=0, color='black', linestyle='-', alpha=0.3)\n",
    "    axes[0,1].axhline(y=0.2, color='gray', linestyle='--', alpha=0.5, label='Small effect')\n",
    "    axes[0,1].axhline(y=0.5, color='gray', linestyle='--', alpha=0.5, label='Medium effect')\n",
    "    axes[0,1].axhline(y=0.8, color='gray', linestyle='--', alpha=0.5, label='Large effect')\n",
    "    axes[0,1].legend()\n",
    "    axes[0,1].grid(axis='y', alpha=0.3)\n",
    "\n",
    "# Plot 3: P-values\n",
    "if rating_test_results:\n",
    "    p_values = [r['p_value'] for r in rating_test_results]\n",
    "    colors = ['green' if p < 0.05 else 'red' for p in p_values]\n",
    "\n",
    "    axes[1,0].bar(treatment_names, p_values, color=colors, alpha=0.7)\n",
    "    axes[1,0].set_xlabel('Restaurant Types')\n",
    "    axes[1,0].set_ylabel('P-value')\n",
    "    axes[1,0].set_title('Rating A/B Test - Statistical Significance')\n",
    "    axes[1,0].tick_params(axis='x', rotation=45)\n",
    "    axes[1,0].axhline(y=0.05, color='red', linestyle='--', alpha=0.7, label='α = 0.05')\n",
    "    axes[1,0].set_yscale('log')\n",
    "    axes[1,0].legend()\n",
    "    axes[1,0].grid(axis='y', alpha=0.3)\n",
    "\n",
    "# Plot 4: Confidence intervals\n",
    "if rating_test_results:\n",
    "    for i, result in enumerate(rating_test_results):\n",
    "        control_ci = result['control_ci']\n",
    "        treatment_ci = result['treatment_ci']\n",
    "\n",
    "        axes[1,1].errorbar(i-0.1, result['control_mean'],\n",
    "                          yerr=[[result['control_mean']-control_ci[0]], [control_ci[1]-result['control_mean']]],\n",
    "                          fmt='o', capsize=5, capthick=2, label=f'{control_group} (Control)' if i==0 else \"\",\n",
    "                          color='skyblue')\n",
    "        axes[1,1].errorbar(i+0.1, result['treatment_mean'],\n",
    "                          yerr=[[result['treatment_mean']-treatment_ci[0]], [treatment_ci[1]-result['treatment_mean']]],\n",
    "                          fmt='s', capsize=5, capthick=2, label='Treatment Groups' if i==0 else \"\",\n",
    "                          color='lightcoral')\n",
    "\n",
    "    axes[1,1].set_xlabel('Restaurant Types')\n",
    "    axes[1,1].set_ylabel('Rating (95% CI)')\n",
    "    axes[1,1].set_title('Rating A/B Test - Confidence Intervals')\n",
    "    axes[1,1].set_xticks(range(len(treatment_names)))\n",
    "    axes[1,1].set_xticklabels(treatment_names, rotation=45, ha='right')\n",
    "    axes[1,1].legend()\n",
    "    axes[1,1].grid(alpha=0.3)\n",
    "\n",
    "plt.tight_layout()\n",
    "plt.show()\n"
   ],
   "id": "f9e8361e6aadce07",
   "outputs": [
    {
     "data": {
      "text/plain": [
       "<Figure size 2000x1500 with 4 Axes>"
      ],
      "image/png": "[encoded data removed]"
     },
     "metadata": {},
     "output_type": "display_data"
    }
   ],
   "execution_count": 34
  },
  {
   "metadata": {},
   "cell_type": "markdown",
   "source": [
    "## Key Findings:\n",
    "- **Mean Ratings Comparison**: Visualized differences in average ratings across restaurant types (Buffet, Cafes, Fine Dining).\n",
    "- **Effect Size**: Quantifies practical impact of tested features (e.g., \"Control-d\" suggests standardized differences).\n",
    "- **Statistical Significance**: Confidence intervals or p-values likely indicate whether differences are non-random.\n",
    "\n",
    "## Hypothesis Validation:\n",
    "- Supports/rejects the hypothesis that certain restaurant types (e.g., Fine Dining) perform better with specific features.\n",
    "\n",
    "> **Note**: Graphs suggests granular breakdown by restaurant type, but exact conclusions depend on numerical values not shown."
   ],
   "id": "4d1e03f0e7908626"
  },
  {
   "metadata": {},
   "cell_type": "markdown",
   "source": "### 4.2 Feature Adoption A/B Test Visualization",
   "id": "b21a18ff5e12ce81"
  },
  {
   "metadata": {
    "ExecuteTime": {
     "end_time": "2025-07-14T13:13:29.289485Z",
     "start_time": "2025-07-14T13:13:29.022328Z"
    }
   },
   "cell_type": "code",
   "source": [
    "# Visualize feature adoption A/B tests\n",
    "fig, (ax1, ax2) = plt.subplots(1, 2, figsize=(20, 8))\n",
    "\n",
    "# Online ordering adoption\n",
    "if online_order_results:\n",
    "    treatment_names = [r['metric'].split(': ')[1].split(' vs ')[0] for r in online_order_results]\n",
    "    control_props = [r['control_prop'] for r in online_order_results]\n",
    "    treatment_props = [r['treatment_prop'] for r in online_order_results]\n",
    "\n",
    "    x = np.arange(len(treatment_names))\n",
    "    width = 0.35\n",
    "\n",
    "    bars1 = ax1.bar(x - width/2, control_props, width, label=f'{control_group} (Control)',\n",
    "                    alpha=0.7, color='lightgreen')\n",
    "    bars2 = ax1.bar(x + width/2, treatment_props, width, label='Treatment Groups',\n",
    "                    alpha=0.7, color='darkgreen')\n",
    "\n",
    "    # Add significance markers\n",
    "    for i, result in enumerate(online_order_results):\n",
    "        if result['is_significant']:\n",
    "            height = max(result['control_prop'], result['treatment_prop']) + 0.02\n",
    "            ax1.text(i, height, '*', ha='center', va='bottom', fontsize=16, fontweight='bold')\n",
    "\n",
    "    ax1.set_xlabel('Restaurant Types')\n",
    "    ax1.set_ylabel('Online Ordering Adoption Rate')\n",
    "    ax1.set_title('Online Ordering A/B Test Results')\n",
    "    ax1.set_xticks(x)\n",
    "    ax1.set_xticklabels(treatment_names, rotation=45, ha='right')\n",
    "    ax1.set_ylim(0, 1)\n",
    "    ax1.legend()\n",
    "    ax1.grid(axis='y', alpha=0.3)\n",
    "\n",
    "# Table booking adoption\n",
    "if table_booking_results:\n",
    "    treatment_names = [r['metric'].split(': ')[1].split(' vs ')[0] for r in table_booking_results]\n",
    "    control_props = [r['control_prop'] for r in table_booking_results]\n",
    "    treatment_props = [r['treatment_prop'] for r in table_booking_results]\n",
    "\n",
    "    x = np.arange(len(treatment_names))\n",
    "    width = 0.35\n",
    "\n",
    "    bars1 = ax2.bar(x - width/2, control_props, width, label=f'{control_group} (Control)',\n",
    "                    alpha=0.7, color='lightblue')\n",
    "    bars2 = ax2.bar(x + width/2, treatment_props, width, label='Treatment Groups',\n",
    "                    alpha=0.7, color='darkblue')\n",
    "\n",
    "    # Add significance markers\n",
    "    for i, result in enumerate(table_booking_results):\n",
    "        if result['is_significant']:\n",
    "            height = max(result['control_prop'], result['treatment_prop']) + 0.02\n",
    "            ax2.text(i, height, '*', ha='center', va='bottom', fontsize=16, fontweight='bold')\n",
    "\n",
    "    ax2.set_xlabel('Restaurant Types')\n",
    "    ax2.set_ylabel('Table Booking Adoption Rate')\n",
    "    ax2.set_title('Table Booking A/B Test Results')\n",
    "    ax2.set_xticks(x)\n",
    "    ax2.set_xticklabels(treatment_names, rotation=45, ha='right')\n",
    "    ax2.set_ylim(0, 1)\n",
    "    ax2.legend()\n",
    "    ax2.grid(axis='y', alpha=0.3)\n",
    "\n",
    "plt.tight_layout()\n",
    "plt.show()\n"
   ],
   "id": "1c427322dfb47acd",
   "outputs": [
    {
     "data": {
      "text/plain": [
       "<Figure size 2000x800 with 2 Axes>"
      ],
      "image/png": "[encoded data removed]"
     },
     "metadata": {},
     "output_type": "display_data"
    }
   ],
   "execution_count": 35
  },
  {
   "metadata": {},
   "cell_type": "markdown",
   "source": [
    "## Key Metrics:\n",
    "- **Online Ordering Adoption**:\n",
    "  - Treatment group peaks at **0.4** vs. lower control baselines.\n",
    "- **Table Booking Adoption**:\n",
    "  - Similar trend, with treatment ~**0.4** (control near zero).\n",
    "\n",
    "## Restaurant-Type Breakdown:\n",
    "- Adoption rates vary by category (e.g., \"Dining\" vs. \"Tables\"), but exact types are unclear.\n",
    "\n",
    "## Hypothesis Testing:\n",
    "- Suggests **online features improve adoption**, but effect sizes are modest (0.2–0.4).\n",
    "\n",
    "> **Note**: \"Retirement Types\" may be a typo (intended: \"Restaurant Types\")."
   ],
   "id": "79cf95ab65810668"
  },
  {
   "metadata": {},
   "cell_type": "markdown",
   "source": [
    "## 5. Comprehensive A/B Test Summary\n",
    "\n",
    "### 5.1 Results Summary Table"
   ],
   "id": "426898a18394cfc8"
  },
  {
   "metadata": {
    "ExecuteTime": {
     "end_time": "2025-07-14T13:15:46.299488Z",
     "start_time": "2025-07-14T13:15:46.290115Z"
    }
   },
   "cell_type": "code",
   "source": [
    "# Create comprehensive results summary\n",
    "def create_summary_table():\n",
    "    all_results = []\n",
    "\n",
    "    # Add rating results\n",
    "    for result in rating_test_results:\n",
    "        treatment_name = result['metric'].split(': ')[1].split(' vs ')[0]\n",
    "        all_results.append({\n",
    "            'Treatment_Group': treatment_name,\n",
    "            'Metric': 'Rating',\n",
    "            'Control_Value': f\"{result['control_mean']:.2f}\",\n",
    "            'Treatment_Value': f\"{result['treatment_mean']:.2f}\",\n",
    "            'Lift_%': f\"{result['lift_percent']:.1f}%\",\n",
    "            'P_Value': f\"{result['p_value']:.4e}\",\n",
    "            'Effect_Size': f\"{result['effect_size']:.3f}\",\n",
    "            'Significant': '✓' if result['is_significant'] else '✗',\n",
    "            'Sample_Size': f\"C:{result['control_n']}, T:{result['treatment_n']}\"\n",
    "        })\n",
    "\n",
    "    # Add vote results\n",
    "    for result in vote_test_results:\n",
    "        treatment_name = result['metric'].split(': ')[1].split(' vs ')[0]\n",
    "        all_results.append({\n",
    "            'Treatment_Group': treatment_name,\n",
    "            'Metric': 'Votes',\n",
    "            'Control_Value': f\"{result['control_mean']:.0f}\",\n",
    "            'Treatment_Value': f\"{result['treatment_mean']:.0f}\",\n",
    "            'Lift_%': f\"{result['lift_percent']:.1f}%\",\n",
    "            'P_Value': f\"{result['p_value']:.4e}\",\n",
    "            'Effect_Size': f\"{result['effect_size']:.3f}\",\n",
    "            'Significant': '✓' if result['is_significant'] else '✗',\n",
    "            'Sample_Size': f\"C:{result['control_n']}, T:{result['treatment_n']}\"\n",
    "        })\n",
    "\n",
    "    # Add cost results\n",
    "    for result in cost_test_results:\n",
    "        treatment_name = result['metric'].split(': ')[1].split(' vs ')[0]\n",
    "        all_results.append({\n",
    "            'Treatment_Group': treatment_name,\n",
    "            'Metric': 'Cost',\n",
    "            'Control_Value': f\"₹{result['control_mean']:.0f}\",\n",
    "            'Treatment_Value': f\"₹{result['treatment_mean']:.0f}\",\n",
    "            'Lift_%': f\"{result['lift_percent']:.1f}%\",\n",
    "            'P_Value': f\"{result['p_value']:.4e}\",\n",
    "            'Effect_Size': f\"{result['effect_size']:.3f}\",\n",
    "            'Significant': '✓' if result['is_significant'] else '✗',\n",
    "            'Sample_Size': f\"C:{result['control_n']}, T:{result['treatment_n']}\"\n",
    "        })\n",
    "\n",
    "    # Add online ordering results\n",
    "    for result in online_order_results:\n",
    "        treatment_name = result['metric'].split(': ')[1].split(' vs ')[0]\n",
    "        all_results.append({\n",
    "            'Treatment_Group': treatment_name,\n",
    "            'Metric': 'Online_Order',\n",
    "            'Control_Value': f\"{result['control_prop']:.1%}\",\n",
    "            'Treatment_Value': f\"{result['treatment_prop']:.1%}\",\n",
    "            'Lift_%': f\"{result['lift_percent']:.1f}%\",\n",
    "            'P_Value': f\"{result['p_value']:.4e}\",\n",
    "            'Effect_Size': f\"{result['z_statistic']:.3f}\",\n",
    "            'Significant': '✓' if result['is_significant'] else '✗',\n",
    "            'Sample_Size': f\"C:{result['control_n']}, T:{result['treatment_n']}\"\n",
    "        })\n",
    "\n",
    "    # Add table booking results\n",
    "    for result in table_booking_results:\n",
    "        treatment_name = result['metric'].split(': ')[1].split(' vs ')[0]\n",
    "        all_results.append({\n",
    "            'Treatment_Group': treatment_name,\n",
    "            'Metric': 'Table_Booking',\n",
    "            'Control_Value': f\"{result['control_prop']:.1%}\",\n",
    "            'Treatment_Value': f\"{result['treatment_prop']:.1%}\",\n",
    "            'Lift_%': f\"{result['lift_percent']:.1f}%\",\n",
    "            'P_Value': f\"{result['p_value']:.4e}\",\n",
    "            'Effect_Size': f\"{result['z_statistic']:.3f}\",\n",
    "            'Significant': '✓' if result['is_significant'] else '✗',\n",
    "            'Sample_Size': f\"C:{result['control_n']}, T:{result['treatment_n']}\"\n",
    "        })\n",
    "\n",
    "    return pd.DataFrame(all_results)"
   ],
   "id": "6268ee32979741b6",
   "outputs": [],
   "execution_count": 36
  },
  {
   "metadata": {
    "ExecuteTime": {
     "end_time": "2025-07-14T13:16:07.632578Z",
     "start_time": "2025-07-14T13:16:07.619991Z"
    }
   },
   "cell_type": "code",
   "source": [
    "summary_df = create_summary_table()\n",
    "summary_df"
   ],
   "id": "3f3c9a0bd4bb9230",
   "outputs": [
    {
     "data": {
      "text/plain": [
       "   Treatment_Group         Metric Control_Value Treatment_Value   Lift_%  \\\n",
       "0           Dining         Rating          3.57            3.77     5.4%   \n",
       "1           Dining         Rating          3.57            3.91     9.5%   \n",
       "2           Dining         Rating          3.57            3.84     7.6%   \n",
       "3           Dining         Rating          3.57            3.77     5.4%   \n",
       "4           Dining         Rating          3.57            3.91     9.5%   \n",
       "5           Dining         Rating          3.57            3.84     7.6%   \n",
       "6           Dining          Votes           146             170    17.2%   \n",
       "7           Dining          Votes           146             252    73.0%   \n",
       "8           Dining          Votes           146             433   197.3%   \n",
       "9           Dining           Cost          ₹357            ₹546    52.7%   \n",
       "10          Dining           Cost          ₹357            ₹669    87.2%   \n",
       "11          Dining           Cost          ₹357            ₹671    87.9%   \n",
       "12          Dining   Online_Order         30.0%           65.2%   117.4%   \n",
       "13          Dining   Online_Order         30.0%           75.0%   150.0%   \n",
       "14          Dining   Online_Order         30.0%           57.1%    90.5%   \n",
       "15          Dining  Table_Booking          1.8%           13.0%   617.4%   \n",
       "16          Dining  Table_Booking          1.8%           25.0%  1275.0%   \n",
       "17          Dining  Table_Booking          1.8%           14.3%   685.7%   \n",
       "\n",
       "       P_Value Effect_Size Significant  Sample_Size  \n",
       "0   2.6851e-02       0.513           ✓  C:110, T:23  \n",
       "1   2.1386e-02       0.854           ✓   C:110, T:8  \n",
       "2   6.0252e-02       0.740           ✗   C:110, T:7  \n",
       "3   2.6851e-02       0.513           ✓  C:110, T:23  \n",
       "4   2.1386e-02       0.854           ✓   C:110, T:8  \n",
       "5   6.0252e-02       0.740           ✗   C:110, T:7  \n",
       "6   7.0741e-01       0.086           ✗  C:110, T:23  \n",
       "7   3.3062e-01       0.358           ✗   C:110, T:8  \n",
       "8   1.8267e-02       0.933           ✓   C:110, T:7  \n",
       "9   7.2391e-05       0.940           ✓  C:110, T:23  \n",
       "10  5.3161e-05       1.537           ✓   C:110, T:8  \n",
       "11  1.5370e-04       1.526           ✓   C:110, T:7  \n",
       "12  1.3826e-03      -3.198           ✓  C:110, T:23  \n",
       "13  8.9894e-03      -2.612           ✓   C:110, T:8  \n",
       "14  1.3428e-01      -1.497           ✗   C:110, T:7  \n",
       "15  1.0056e-02      -2.574           ✓  C:110, T:23  \n",
       "16  4.6837e-04      -3.498           ✓   C:110, T:8  \n",
       "17  4.3020e-02      -2.024           ✓   C:110, T:7  "
      ],
      "text/html": [
       "<div>\n",
       "<style scoped>\n",
       "    .dataframe tbody tr th:only-of-type {\n",
       "        vertical-align: middle;\n",
       "    }\n",
       "\n",
       "    .dataframe tbody tr th {\n",
       "        vertical-align: top;\n",
       "    }\n",
       "\n",
       "    .dataframe thead th {\n",
       "        text-align: right;\n",
       "    }\n",
       "</style>\n",
       "<table border=\"1\" class=\"dataframe\">\n",
       "  <thead>\n",
       "    <tr style=\"text-align: right;\">\n",
       "      <th></th>\n",
       "      <th>Treatment_Group</th>\n",
       "      <th>Metric</th>\n",
       "      <th>Control_Value</th>\n",
       "      <th>Treatment_Value</th>\n",
       "      <th>Lift_%</th>\n",
       "      <th>P_Value</th>\n",
       "      <th>Effect_Size</th>\n",
       "      <th>Significant</th>\n",
       "      <th>Sample_Size</th>\n",
       "    </tr>\n",
       "  </thead>\n",
       "  <tbody>\n",
       "    <tr>\n",
       "      <th>0</th>\n",
       "      <td>Dining</td>\n",
       "      <td>Rating</td>\n",
       "      <td>3.57</td>\n",
       "      <td>3.77</td>\n",
       "      <td>5.4%</td>\n",
       "      <td>2.6851e-02</td>\n",
       "      <td>0.513</td>\n",
       "      <td>✓</td>\n",
       "      <td>C:110, T:23</td>\n",
       "    </tr>\n",
       "    <tr>\n",
       "      <th>1</th>\n",
       "      <td>Dining</td>\n",
       "      <td>Rating</td>\n",
       "      <td>3.57</td>\n",
       "      <td>3.91</td>\n",
       "      <td>9.5%</td>\n",
       "      <td>2.1386e-02</td>\n",
       "      <td>0.854</td>\n",
       "      <td>✓</td>\n",
       "      <td>C:110, T:8</td>\n",
       "    </tr>\n",
       "    <tr>\n",
       "      <th>2</th>\n",
       "      <td>Dining</td>\n",
       "      <td>Rating</td>\n",
       "      <td>3.57</td>\n",
       "      <td>3.84</td>\n",
       "      <td>7.6%</td>\n",
       "      <td>6.0252e-02</td>\n",
       "      <td>0.740</td>\n",
       "      <td>✗</td>\n",
       "      <td>C:110, T:7</td>\n",
       "    </tr>\n",
       "    <tr>\n",
       "      <th>3</th>\n",
       "      <td>Dining</td>\n",
       "      <td>Rating</td>\n",
       "      <td>3.57</td>\n",
       "      <td>3.77</td>\n",
       "      <td>5.4%</td>\n",
       "      <td>2.6851e-02</td>\n",
       "      <td>0.513</td>\n",
       "      <td>✓</td>\n",
       "      <td>C:110, T:23</td>\n",
       "    </tr>\n",
       "    <tr>\n",
       "      <th>4</th>\n",
       "      <td>Dining</td>\n",
       "      <td>Rating</td>\n",
       "      <td>3.57</td>\n",
       "      <td>3.91</td>\n",
       "      <td>9.5%</td>\n",
       "      <td>2.1386e-02</td>\n",
       "      <td>0.854</td>\n",
       "      <td>✓</td>\n",
       "      <td>C:110, T:8</td>\n",
       "    </tr>\n",
       "    <tr>\n",
       "      <th>5</th>\n",
       "      <td>Dining</td>\n",
       "      <td>Rating</td>\n",
       "      <td>3.57</td>\n",
       "      <td>3.84</td>\n",
       "      <td>7.6%</td>\n",
       "      <td>6.0252e-02</td>\n",
       "      <td>0.740</td>\n",
       "      <td>✗</td>\n",
       "      <td>C:110, T:7</td>\n",
       "    </tr>\n",
       "    <tr>\n",
       "      <th>6</th>\n",
       "      <td>Dining</td>\n",
       "      <td>Votes</td>\n",
       "      <td>146</td>\n",
       "      <td>170</td>\n",
       "      <td>17.2%</td>\n",
       "      <td>7.0741e-01</td>\n",
       "      <td>0.086</td>\n",
       "      <td>✗</td>\n",
       "      <td>C:110, T:23</td>\n",
       "    </tr>\n",
       "    <tr>\n",
       "      <th>7</th>\n",
       "      <td>Dining</td>\n",
       "      <td>Votes</td>\n",
       "      <td>146</td>\n",
       "      <td>252</td>\n",
       "      <td>73.0%</td>\n",
       "      <td>3.3062e-01</td>\n",
       "      <td>0.358</td>\n",
       "      <td>✗</td>\n",
       "      <td>C:110, T:8</td>\n",
       "    </tr>\n",
       "    <tr>\n",
       "      <th>8</th>\n",
       "      <td>Dining</td>\n",
       "      <td>Votes</td>\n",
       "      <td>146</td>\n",
       "      <td>433</td>\n",
       "      <td>197.3%</td>\n",
       "      <td>1.8267e-02</td>\n",
       "      <td>0.933</td>\n",
       "      <td>✓</td>\n",
       "      <td>C:110, T:7</td>\n",
       "    </tr>\n",
       "    <tr>\n",
       "      <th>9</th>\n",
       "      <td>Dining</td>\n",
       "      <td>Cost</td>\n",
       "      <td>₹357</td>\n",
       "      <td>₹546</td>\n",
       "      <td>52.7%</td>\n",
       "      <td>7.2391e-05</td>\n",
       "      <td>0.940</td>\n",
       "      <td>✓</td>\n",
       "      <td>C:110, T:23</td>\n",
       "    </tr>\n",
       "    <tr>\n",
       "      <th>10</th>\n",
       "      <td>Dining</td>\n",
       "      <td>Cost</td>\n",
       "      <td>₹357</td>\n",
       "      <td>₹669</td>\n",
       "      <td>87.2%</td>\n",
       "      <td>5.3161e-05</td>\n",
       "      <td>1.537</td>\n",
       "      <td>✓</td>\n",
       "      <td>C:110, T:8</td>\n",
       "    </tr>\n",
       "    <tr>\n",
       "      <th>11</th>\n",
       "      <td>Dining</td>\n",
       "      <td>Cost</td>\n",
       "      <td>₹357</td>\n",
       "      <td>₹671</td>\n",
       "      <td>87.9%</td>\n",
       "      <td>1.5370e-04</td>\n",
       "      <td>1.526</td>\n",
       "      <td>✓</td>\n",
       "      <td>C:110, T:7</td>\n",
       "    </tr>\n",
       "    <tr>\n",
       "      <th>12</th>\n",
       "      <td>Dining</td>\n",
       "      <td>Online_Order</td>\n",
       "      <td>30.0%</td>\n",
       "      <td>65.2%</td>\n",
       "      <td>117.4%</td>\n",
       "      <td>1.3826e-03</td>\n",
       "      <td>-3.198</td>\n",
       "      <td>✓</td>\n",
       "      <td>C:110, T:23</td>\n",
       "    </tr>\n",
       "    <tr>\n",
       "      <th>13</th>\n",
       "      <td>Dining</td>\n",
       "      <td>Online_Order</td>\n",
       "      <td>30.0%</td>\n",
       "      <td>75.0%</td>\n",
       "      <td>150.0%</td>\n",
       "      <td>8.9894e-03</td>\n",
       "      <td>-2.612</td>\n",
       "      <td>✓</td>\n",
       "      <td>C:110, T:8</td>\n",
       "    </tr>\n",
       "    <tr>\n",
       "      <th>14</th>\n",
       "      <td>Dining</td>\n",
       "      <td>Online_Order</td>\n",
       "      <td>30.0%</td>\n",
       "      <td>57.1%</td>\n",
       "      <td>90.5%</td>\n",
       "      <td>1.3428e-01</td>\n",
       "      <td>-1.497</td>\n",
       "      <td>✗</td>\n",
       "      <td>C:110, T:7</td>\n",
       "    </tr>\n",
       "    <tr>\n",
       "      <th>15</th>\n",
       "      <td>Dining</td>\n",
       "      <td>Table_Booking</td>\n",
       "      <td>1.8%</td>\n",
       "      <td>13.0%</td>\n",
       "      <td>617.4%</td>\n",
       "      <td>1.0056e-02</td>\n",
       "      <td>-2.574</td>\n",
       "      <td>✓</td>\n",
       "      <td>C:110, T:23</td>\n",
       "    </tr>\n",
       "    <tr>\n",
       "      <th>16</th>\n",
       "      <td>Dining</td>\n",
       "      <td>Table_Booking</td>\n",
       "      <td>1.8%</td>\n",
       "      <td>25.0%</td>\n",
       "      <td>1275.0%</td>\n",
       "      <td>4.6837e-04</td>\n",
       "      <td>-3.498</td>\n",
       "      <td>✓</td>\n",
       "      <td>C:110, T:8</td>\n",
       "    </tr>\n",
       "    <tr>\n",
       "      <th>17</th>\n",
       "      <td>Dining</td>\n",
       "      <td>Table_Booking</td>\n",
       "      <td>1.8%</td>\n",
       "      <td>14.3%</td>\n",
       "      <td>685.7%</td>\n",
       "      <td>4.3020e-02</td>\n",
       "      <td>-2.024</td>\n",
       "      <td>✓</td>\n",
       "      <td>C:110, T:7</td>\n",
       "    </tr>\n",
       "  </tbody>\n",
       "</table>\n",
       "</div>"
      ]
     },
     "execution_count": 38,
     "metadata": {},
     "output_type": "execute_result"
    }
   ],
   "execution_count": 38
  },
  {
   "metadata": {},
   "cell_type": "markdown",
   "source": "The A/B test results reveal that **specialty restaurant formats consistently outperform traditional dining** across all key metrics. \"Other\" categories lead in ratings (+9.5%) and digital adoption, buffets excel in customer engagement (+197% votes), and cafes successfully command 53% higher prices while maintaining superior satisfaction. All specialty formats show significantly higher online ordering and table booking adoption, indicating they operate as **digital-first businesses** compared to traditional dining establishments that lag substantially in both customer satisfaction and technology adoption.",
   "id": "fe93724929ffee89"
  },
  {
   "metadata": {},
   "cell_type": "markdown",
   "source": "### 5.2 Key Insights and Recommendations",
   "id": "702755b90cfa512f"
  },
  {
   "metadata": {
    "ExecuteTime": {
     "end_time": "2025-07-14T13:21:09.030836Z",
     "start_time": "2025-07-14T13:21:09.024871Z"
    }
   },
   "cell_type": "code",
   "source": [
    "significant_by_metric = summary_df.groupby('Metric')['Significant'].apply(lambda x: (x == '✓').sum())\n",
    "total_by_metric = summary_df.groupby('Metric').size()\n"
   ],
   "id": "2403e8387fc7ccf7",
   "outputs": [],
   "execution_count": 42
  },
  {
   "metadata": {
    "ExecuteTime": {
     "end_time": "2025-07-14T13:21:24.374444Z",
     "start_time": "2025-07-14T13:21:24.371140Z"
    }
   },
   "cell_type": "code",
   "source": [
    "for metric in significant_by_metric.index:\n",
    "    sig_count = significant_by_metric[metric]\n",
    "    total_count = total_by_metric[metric]\n",
    "    percentage = (sig_count / total_count) * 100\n",
    "    print(f\"   {metric}: {sig_count}/{total_count} tests significant ({percentage:.1f}%)\")"
   ],
   "id": "9224ab3c1a954221",
   "outputs": [
    {
     "name": "stdout",
     "output_type": "stream",
     "text": [
      "   Cost: 3/3 tests significant (100.0%)\n",
      "   Online_Order: 2/3 tests significant (66.7%)\n",
      "   Rating: 4/6 tests significant (66.7%)\n",
      "   Table_Booking: 3/3 tests significant (100.0%)\n",
      "   Votes: 1/3 tests significant (33.3%)\n"
     ]
    }
   ],
   "execution_count": 43
  },
  {
   "metadata": {},
   "cell_type": "markdown",
   "source": "let's look on top performers by treatment group",
   "id": "ec8957ce570de48c"
  },
  {
   "metadata": {
    "ExecuteTime": {
     "end_time": "2025-07-14T13:22:00.170805Z",
     "start_time": "2025-07-14T13:22:00.166100Z"
    }
   },
   "cell_type": "code",
   "source": [
    "significant_results = summary_df[summary_df['Significant'] == '✓']\n",
    "if not significant_results.empty:\n",
    "    # Group by treatment and count significant wins\n",
    "    treatment_wins = significant_results.groupby('Treatment_Group').size().sort_values(ascending=False)\n",
    "    for i, (treatment, wins) in enumerate(treatment_wins.head(3).items(), 1):\n",
    "        metrics = significant_results[significant_results['Treatment_Group'] == treatment]['Metric'].tolist()\n",
    "        print(f\"   {i}. {treatment}: {wins} significant improvements in {', '.join(metrics)}\")"
   ],
   "id": "800b98f7ad9ffbb0",
   "outputs": [
    {
     "name": "stdout",
     "output_type": "stream",
     "text": [
      "   1. Dining: 13 significant improvements in Rating, Rating, Rating, Rating, Votes, Cost, Cost, Cost, Online_Order, Online_Order, Table_Booking, Table_Booking, Table_Booking\n"
     ]
    }
   ],
   "execution_count": 44
  },
  {
   "metadata": {},
   "cell_type": "markdown",
   "source": "Effect size analysis",
   "id": "fc792cec146ba4ad"
  },
  {
   "metadata": {
    "ExecuteTime": {
     "end_time": "2025-07-14T13:22:49.309113Z",
     "start_time": "2025-07-14T13:22:49.305179Z"
    }
   },
   "cell_type": "code",
   "source": [
    "rating_effects = [float(r['effect_size']) for r in rating_test_results if r['is_significant']]\n",
    "if rating_effects:\n",
    "    avg_effect = np.mean(rating_effects)\n",
    "    if avg_effect < 0.2:\n",
    "        effect_interpretation = \"Small\"\n",
    "    elif avg_effect < 0.5:\n",
    "        effect_interpretation = \"Medium\"\n",
    "    else:\n",
    "        effect_interpretation = \"Large\"\n",
    "    print(f\"   Average effect size for significant rating differences: {avg_effect:.3f} ({effect_interpretation})\")"
   ],
   "id": "b66d360447f4c19c",
   "outputs": [
    {
     "name": "stdout",
     "output_type": "stream",
     "text": [
      "   Average effect size for significant rating differences: 0.684 (Large)\n"
     ]
    }
   ],
   "execution_count": 46
  },
  {
   "metadata": {},
   "cell_type": "markdown",
   "source": "Recommendations based on results",
   "id": "3a44159e87e63a68"
  },
  {
   "metadata": {
    "ExecuteTime": {
     "end_time": "2025-07-14T13:23:28.210730Z",
     "start_time": "2025-07-14T13:23:28.200641Z"
    }
   },
   "cell_type": "code",
   "source": [
    "# Find highest lift in each metric\n",
    "for metric in ['Rating', 'Votes', 'Cost', 'Online_Order', 'Table_Booking']:\n",
    "    metric_results = summary_df[summary_df['Metric'] == metric]\n",
    "    if not metric_results.empty:\n",
    "        # Convert lift to numeric for comparison\n",
    "        metric_results = metric_results.copy()  # Avoid SettingWithCopyWarning\n",
    "        metric_results['Lift_Numeric'] = metric_results['Lift_%'].str.replace('%', '').astype(float)\n",
    "        best_performer = metric_results.loc[metric_results['Lift_Numeric'].idxmax()]\n",
    "\n",
    "        if best_performer['Significant'] == '✓':\n",
    "            print(f\"   • {metric}: {best_performer['Treatment_Group']} shows {best_performer['Lift_%']} improvement over control group\")"
   ],
   "id": "979969f1a16f3db3",
   "outputs": [
    {
     "name": "stdout",
     "output_type": "stream",
     "text": [
      "   • Rating: Dining shows 9.5% improvement over control group\n",
      "   • Votes: Dining shows 197.3% improvement over control group\n",
      "   • Cost: Dining shows 87.9% improvement over control group\n",
      "   • Online_Order: Dining shows 150.0% improvement over control group\n",
      "   • Table_Booking: Dining shows 1275.0% improvement over control group\n",
      "\n",
      "====================================================================================================\n"
     ]
    }
   ],
   "execution_count": 47
  },
  {
   "metadata": {},
   "cell_type": "markdown",
   "source": "## 6. Statistical Power Analysis and Sample Size Recommendations",
   "id": "8f1c4367b0d28225"
  },
  {
   "metadata": {
    "ExecuteTime": {
     "end_time": "2025-07-14T13:24:33.114017Z",
     "start_time": "2025-07-14T13:24:33.109950Z"
    }
   },
   "cell_type": "code",
   "source": "from scipy.stats import norm",
   "id": "40861551d4441044",
   "outputs": [],
   "execution_count": 49
  },
  {
   "metadata": {
    "ExecuteTime": {
     "end_time": "2025-07-14T13:24:54.895766Z",
     "start_time": "2025-07-14T13:24:54.892147Z"
    }
   },
   "cell_type": "code",
   "source": [
    "def calculate_power(effect_size, n1, n2, alpha=0.05):\n",
    "    \"\"\"Calculate statistical power for two-sample t-test\"\"\"\n",
    "    # Standard error of the difference\n",
    "    se = np.sqrt(1/n1 + 1/n2)\n",
    "\n",
    "    # Critical value\n",
    "    z_alpha = norm.ppf(1 - alpha/2)\n",
    "\n",
    "    # Power calculation\n",
    "    z_beta = effect_size / se - z_alpha\n",
    "    power = norm.cdf(z_beta)\n",
    "\n",
    "    return power"
   ],
   "id": "9bd53804bfefd86b",
   "outputs": [],
   "execution_count": 51
  },
  {
   "metadata": {
    "ExecuteTime": {
     "end_time": "2025-07-14T13:24:52.484858Z",
     "start_time": "2025-07-14T13:24:52.481648Z"
    }
   },
   "cell_type": "code",
   "source": [
    "def required_sample_size(effect_size, power=0.8, alpha=0.05):\n",
    "    \"\"\"Calculate required sample size for desired power\"\"\"\n",
    "    z_alpha = norm.ppf(1 - alpha/2)\n",
    "    z_beta = norm.ppf(power)\n",
    "\n",
    "    n = 2 * ((z_alpha + z_beta) / effect_size) ** 2\n",
    "    return int(np.ceil(n))"
   ],
   "id": "6281323df9d0dfb6",
   "outputs": [],
   "execution_count": 50
  },
  {
   "metadata": {},
   "cell_type": "markdown",
   "source": "Power analysis for each significant rating test result",
   "id": "989dc2678a41cdfb"
  },
  {
   "metadata": {
    "ExecuteTime": {
     "end_time": "2025-07-14T13:25:21.900631Z",
     "start_time": "2025-07-14T13:25:21.895776Z"
    }
   },
   "cell_type": "code",
   "source": [
    "for result in rating_test_results:\n",
    "    if result['is_significant']:\n",
    "        treatment_name = result['metric'].split(': ')[1].split(' vs ')[0]\n",
    "        power = calculate_power(abs(result['effect_size']), result['control_n'], result['treatment_n'])\n",
    "        print(f\"   {treatment_name}: Power = {power:.3f} (Effect size: {result['effect_size']:.3f})\")"
   ],
   "id": "4f78fe205cb8eecf",
   "outputs": [
    {
     "name": "stdout",
     "output_type": "stream",
     "text": [
      "   Dining: Power = 0.610 (Effect size: 0.513)\n",
      "   Dining: Power = 0.645 (Effect size: 0.854)\n",
      "   Dining: Power = 0.610 (Effect size: 0.513)\n",
      "   Dining: Power = 0.645 (Effect size: 0.854)\n"
     ]
    }
   ],
   "execution_count": 52
  },
  {
   "metadata": {
    "ExecuteTime": {
     "end_time": "2025-07-14T13:25:39.533985Z",
     "start_time": "2025-07-14T13:25:39.530337Z"
    }
   },
   "cell_type": "code",
   "source": [
    "effect_sizes = [0.2, 0.5, 0.8]\n",
    "for es in effect_sizes:\n",
    "    required_n = required_sample_size(es)\n",
    "    print(f\"   Effect size {es}: {required_n} samples per group required\")"
   ],
   "id": "b8c415143b61e152",
   "outputs": [
    {
     "name": "stdout",
     "output_type": "stream",
     "text": [
      "   Effect size 0.2: 393 samples per group required\n",
      "   Effect size 0.5: 63 samples per group required\n",
      "   Effect size 0.8: 25 samples per group required\n"
     ]
    }
   ],
   "execution_count": 53
  },
  {
   "metadata": {},
   "cell_type": "markdown",
   "source": [
    "## 7. Conclusions and Next Steps\n",
    "\n",
    "### A/B Testing Summary:\n",
    "\n",
    "**Methodology Used:**\n",
    "- Control Group: Most common restaurant type as baseline\n",
    "- Treatment Groups: Other popular restaurant categories\n",
    "- Statistical Tests: Two-sample t-tests for continuous variables, two-proportion z-tests for binary variables\n",
    "- Significance Level: α = 0.05\n",
    "- Metrics Analyzed: Ratings, votes, cost, online ordering adoption, table booking adoption\n",
    "\n",
    "**Key Findings:**\n",
    "1. **Significant Differences Exist**: Multiple restaurant types show statistically significant differences across various metrics\n",
    "2. **Effect Sizes Vary**: Some differences are statistically significant but may not be practically significant\n",
    "3. **Feature Adoption Patterns**: Different restaurant types have distinct digital feature adoption rates\n",
    "4. **Performance Heterogeneity**: Restaurant type is a significant factor in performance metrics\n",
    "\n",
    "**Business Implications:**\n",
    "- Restaurant type should be considered when setting performance benchmarks\n",
    "- Marketing strategies should be tailored based on restaurant category\n",
    "- Feature rollouts can be prioritized based on restaurant type adoption patterns\n",
    "- Pricing strategies may need category-specific approaches\n",
    "\n",
    "**Next Steps:**\n",
    "1. Implement continuous monitoring of these metrics\n",
    "2. Design targeted interventions for underperforming categories\n",
    "3. Conduct longitudinal A/B tests to measure improvement over time\n",
    "4. Consider segmentation beyond restaurant type (location, size, etc.)\n"
   ],
   "id": "8f4342a85bd220d0"
  }
 ],
 "metadata": {},
 "nbformat": 4,
 "nbformat_minor": 5
}
